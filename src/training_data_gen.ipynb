{
 "cells": [
  {
   "cell_type": "markdown",
   "metadata": {},
   "source": [
    "# Code to generate HG and LG mode dataset\n",
    "Pure mode images augmented to generate a much larger dataset with rotation, translation and noise"
   ]
  },
  {
   "cell_type": "code",
   "execution_count": 1,
   "metadata": {},
   "outputs": [
    {
     "name": "stdout",
     "output_type": "stream",
     "text": [
      "                                              ..-\n",
      "    PyKat 1.1.331         _                  '(\n",
      "                          \\`.|\\.__...-\"\"\"\"-_.\" )\n",
      "       ..+-----.._        /  ' `            .-'\n",
      "   . '            `:      7/* _/._\\    \\   (\n",
      "  (        '::;;+;;:      `-\"' =\" /,`\"\" `) /\n",
      "  L.        \\`:::a:f            c_/     n_'\n",
      "  ..`--...___`.  .    ,\n",
      "   `^-....____:   +.      www.gwoptics.org/pykat\n",
      "\n"
     ]
    },
    {
     "name": "stderr",
     "output_type": "stream",
     "text": [
      "Using TensorFlow backend.\n"
     ]
    }
   ],
   "source": [
    "import numpy as np                         # Importing numpy\n",
    "import matplotlib                          # For plotting\n",
    "import matplotlib.pyplot as plt\n",
    "from matplotlib import cm\n",
    "from pykat.commands import *               # Importing all packages in pykat.commands.\n",
    "import pykat.optics.gaussian_beams as gb\n",
    "import pykat.plotting\n",
    "from keras.preprocessing.image import ImageDataGenerator, array_to_img, img_to_array, load_img\n",
    "import os\n",
    "from tqdm import tqdm\n",
    "\n",
    "%matplotlib inline\n",
    "\n",
    "w0=1e-3\n",
    "z=10\n",
    "max_TEM = 4\n",
    "# toggle generation of base data - pure modes\n",
    "genpuremodes = False\n",
    "# image dimension (n_pixl x n_pixl)\n",
    "n_pixl=128\n",
    "scale=4\n",
    "RepoDir = '/home/user1/Dropbox/Academic/WORK/Beam_auto_alignment'\n",
    "ModesDataFolder = RepoDir + '/Data/ModesData'\n",
    "TrainingDataFolder = RepoDir + '/Data/TrainingData'\n",
    "# No. images to generate per raw image\n",
    "imageNum = 500\n",
    "\n",
    "if not os.path.exists(ModesDataFolder): os.mkdir(ModesDataFolder)\n",
    "if not os.path.exists(TrainingDataFolder): os.mkdir(TrainingDataFolder)"
   ]
  },
  {
   "cell_type": "markdown",
   "metadata": {},
   "source": [
    "## Functions for HG and LG modes; Image augmentation with Keras"
   ]
  },
  {
   "cell_type": "code",
   "execution_count": 2,
   "metadata": {},
   "outputs": [],
   "source": [
    "def get_HG_mode(n, m):\n",
    "    # defining a beam parameter through waist size (w0) and distance to waist (z)\n",
    "    qx=gb.BeamParam(w0=w0,z=z)\n",
    "    # HG mode\n",
    "    beam = gb.HG_mode(qx, n=n, m=m)\n",
    "    Rnge = scale * np.linspace(-beam._qx.w, beam._qx.w, n_pixl)\n",
    "    data = beam.Unm(Rnge,Rnge)\n",
    "    return data\n",
    "\n",
    "def get_LG_mode(p, l):\n",
    "    data = np.zeros((n_pixl, n_pixl), dtype='complex128')\n",
    "    # LG mode decomposed into HG mode basis\n",
    "    coefficients, ns, ms = gb.LG2HG(p=p,l=l)\n",
    "    for c in range(len(coefficients)):\n",
    "        data += coefficients[c]*get_HG_mode(n=ns[c], m=ms[c]).astype('complex128')\n",
    "    return data\n",
    "\n",
    "# Preprocessing: Data generators, using Keras\n",
    "trainDatagen = ImageDataGenerator(\n",
    "        rotation_range=30,\n",
    "        width_shift_range=0.2,\n",
    "        height_shift_range=0.2,\n",
    "        shear_range=0.2,\n",
    "        zoom_range=0.2,\n",
    "        horizontal_flip=True,\n",
    "        fill_mode='nearest')"
   ]
  },
  {
   "cell_type": "markdown",
   "metadata": {},
   "source": [
    "## Pure mode images generated and stored"
   ]
  },
  {
   "cell_type": "code",
   "execution_count": 3,
   "metadata": {},
   "outputs": [],
   "source": [
    "# modes in both the bases\n",
    "dpi=96\n",
    "if genpuremodes:\n",
    "    for mode in ['HG', 'LG']:\n",
    "        if mode == 'HG':\n",
    "            mode_generator = get_HG_mode\n",
    "        elif mode == 'LG':\n",
    "            mode_generator = get_LG_mode\n",
    "        # Generating all possible modes\n",
    "        for m in range(max_TEM+1):\n",
    "            for n in range(max_TEM+1):\n",
    "                data = mode_generator(m, n)\n",
    "                # Generating images\n",
    "                plt.imshow(np.abs(data.T), cmap=cm.binary)\n",
    "                plt.imsave(ModesDataFolder + '/%s_%s_%s.png' %(mode, m, n), np.abs(data.T), cmap=cm.binary)\n",
    "                plt.show()"
   ]
  },
  {
   "cell_type": "markdown",
   "metadata": {},
   "source": [
    "## Generate augmented data from pure modes"
   ]
  },
  {
   "cell_type": "code",
   "execution_count": 4,
   "metadata": {},
   "outputs": [
    {
     "name": "stderr",
     "output_type": "stream",
     "text": [
      "100%|██████████| 51/51 [00:38<00:00,  1.29it/s]\n"
     ]
    }
   ],
   "source": [
    "files = os.listdir(ModesDataFolder)\n",
    "\n",
    "for file in tqdm(files):\n",
    "    if file[-3:] == 'png':\n",
    "        loaded = load_img(ModesDataFolder+'/'+file, color_mode=\"grayscale\", target_size=(n_pixl, n_pixl))\n",
    "        array = img_to_array(loaded)\n",
    "        array = array.reshape((1,)+array.shape)\n",
    "        i = 0\n",
    "        for batch in trainDatagen.flow(array, batch_size=1, save_to_dir=TrainingDataFolder,\n",
    "                                       save_prefix=file.strip('.png'), save_format='png'):\n",
    "            i += 1\n",
    "        #             print(i)\n",
    "            if i > imageNum: break"
   ]
  }
 ],
 "metadata": {
  "kernelspec": {
   "display_name": "Python 3",
   "language": "python",
   "name": "python3"
  },
  "language_info": {
   "codemirror_mode": {
    "name": "ipython",
    "version": 3
   },
   "file_extension": ".py",
   "mimetype": "text/x-python",
   "name": "python",
   "nbconvert_exporter": "python",
   "pygments_lexer": "ipython3",
   "version": "3.6.8"
  }
 },
 "nbformat": 4,
 "nbformat_minor": 2
}
