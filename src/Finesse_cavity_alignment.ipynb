{
 "cells": [
  {
   "cell_type": "markdown",
   "metadata": {},
   "source": [
    "# Importing packages and load CNN"
   ]
  },
  {
   "cell_type": "code",
   "execution_count": 2,
   "metadata": {},
   "outputs": [
    {
     "name": "stdout",
     "output_type": "stream",
     "text": [
      "                                              ..-\n",
      "    PyKat 1.1.331         _                  '(\n",
      "                          \\`.|\\.__...-\"\"\"\"-_.\" )\n",
      "       ..+-----.._        /  ' `            .-'\n",
      "   . '            `:      7/* _/._\\    \\   (\n",
      "  (        '::;;+;;:      `-\"' =\" /,`\"\" `) /\n",
      "  L.        \\`:::a:f            c_/     n_'\n",
      "  ..`--...___`.  .    ,\n",
      "   `^-....____:   +.      www.gwoptics.org/pykat\n",
      "\n"
     ]
    },
    {
     "name": "stderr",
     "output_type": "stream",
     "text": [
      "Using TensorFlow backend.\n"
     ]
    }
   ],
   "source": [
    "import pykat\n",
    "import numpy as np\n",
    "import matplotlib.pyplot as plt\n",
    "from matplotlib import cm\n",
    "import pykat.optics.gaussian_beams as gb\n",
    "import keras\n",
    "from keras import backend as k\n",
    "from sklearn.preprocessing import LabelEncoder, OneHotEncoder\n",
    "import tensorflow as tf\n",
    "import pickle\n",
    "from copy import deepcopy\n",
    "from tqdm import tqdm\n",
    "import time\n",
    "import os\n",
    "\n",
    "# Telling the notebook to make plots inline.\n",
    "%matplotlib inline  \n",
    "\n",
    "plt.rc('text', usetex=True)\n",
    "plt.rc('font', family='serif', size=12)\n",
    "\n",
    "n_pixl = 128\n",
    "tilt_step = 1e-4\n",
    "SaveModelFolder = '/home/user1/Dropbox/Academic/WORK/Beam_auto_alignment/Data/TrainedModels/'\n",
    "Model_Name = 'Trained_Model_2019-07-03_17-15'\n",
    "\n",
    "# # Read the pre-trained CNN model\n",
    "# cnn = keras.models.load_model(SaveModelFolder + Model_Name + '.h5')\n",
    "# # load the encoder\n",
    "# loaded_Encoder = pickle.load(open(SaveModelFolder + 'Encoder_of_' + Model_Name + '.npy', 'rb'))"
   ]
  },
  {
   "cell_type": "markdown",
   "metadata": {},
   "source": [
    "## Define Functions"
   ]
  },
  {
   "cell_type": "code",
   "execution_count": 2,
   "metadata": {},
   "outputs": [],
   "source": [
    "def check_direction(old_mode, new_mode, xDir, yDir):\n",
    "    if int(old_mode[-3]) < int(new_mode[-3]):\n",
    "        xDir = not xDir\n",
    "        print(\"X direction reversed\")\n",
    "    if int(old_mode[-1]) < int(new_mode[-1]):\n",
    "        yDir = not yDir\n",
    "        print(\"Y direction reversed\")\n",
    "    return xDir, yDir\n",
    "\n",
    "def get_steps(Mode, Dir, c1, c2):\n",
    "    if Mode > 0:\n",
    "        if Dir:\n",
    "            c1 += tilt_step\n",
    "            c2 += tilt_step\n",
    "        if not Dir:\n",
    "            c1 -= tilt_step\n",
    "            c2 -= tilt_step\n",
    "    return c1, c2\n",
    "\n",
    "def steering_inp(mode, xDir, yDir, x1, x2, y1, y2):\n",
    "    # X mode\n",
    "    x1, x2 = get_steps(int(mode[-3]), xDir, x1, x2)\n",
    "    # Y mode\n",
    "    y1, y2 = get_steps(int(mode[-1]), yDir, y1, y2)\n",
    "    return x1, x2, y1, y2\n",
    "\n",
    "def read_mode(out):\n",
    "    # Captured image\n",
    "    Img = np.array(out['CCD'])\n",
    "    Img += np.random.random(Img.size).reshape(Img.shape)\n",
    "    Img /= np.max(Img)\n",
    "    Img = 1. - Img\n",
    "    plt.imshow(Img[::-1], cmap=cm.binary)\n",
    "    plt.colorbar()\n",
    "    plt.show()\n",
    "    mode = cnn.predict(Img[::-1].reshape(1,n_pixl,n_pixl,1))\n",
    "    probs = cnn.predict_proba(Img[::-1].reshape(1,n_pixl,n_pixl,1))\n",
    "    print(probs)\n",
    "    mode = loaded_Encoder['label_enc'].inverse_transform(loaded_Encoder['one_hot_enc'].\\\n",
    "                                                inverse_transform(mode).astype('int'))\n",
    "    return mode"
   ]
  },
  {
   "cell_type": "code",
   "execution_count": 3,
   "metadata": {},
   "outputs": [],
   "source": [
    "def Reward(Beam_status):\n",
    "    # reward fn as total power\n",
    "    base.SM1.xbeta = Beam_status['SM1']['x']\n",
    "    base.SM1.ybeta = Beam_status['SM1']['y']\n",
    "    base.SM2.xbeta = Beam_status['SM2']['x']\n",
    "    base.SM2.ybeta = Beam_status['SM2']['y']\n",
    "    out = base.run()\n",
    "    Img1 = np.array(out['CCD'])\n",
    "    R_fn1 = Img1.sum()/n_pixl**2/1.95749\n",
    "    return R_fn1, Img1\n",
    "\n",
    "def out_vals(R_fn1, Beam_status, Img2, make_image=False):\n",
    "    print(\"avg: {}%, max: {}%\\n(x1,y1,x2,y2): ({},{},{},{})\"\\\n",
    "          .format(R_fn1, Img2.max()/71.90626, Beam_status['SM1']['x'], Beam_status['SM1']['y'], \\\n",
    "                  Beam_status['SM2']['x'], Beam_status['SM2']['y']))\n",
    "    if make_image:\n",
    "        Img2 /= np.max(Img2)\n",
    "        Img2 = 1. - Img2\n",
    "        plt.imshow(Img2[::-1], cmap=cm.binary)\n",
    "        plt.colorbar()\n",
    "        plt.show()\n",
    "\n",
    "def sample_d(Samples, Rng, Beam_status):\n",
    "    delta = {}\n",
    "    for sm in Beam_status.keys():\n",
    "        delta[sm] = {}\n",
    "        for direction in beam_status[sm].keys():\n",
    "            delta[sm][direction] = (np.random.random(Samples) * 2. * Rng - Rng)\n",
    "            delta[sm][direction] *= waist / dist_to_w[sm]\n",
    "    return deepcopy(delta)\n",
    "\n",
    "def plot_Beam_st(Beam_Status, Delta):\n",
    "    plt.subplot(121)\n",
    "    plt.scatter(Beam_Status['SM1']['x']+Delta['SM1']['x'], Beam_Status['SM1']['y']+Delta['SM1']['y'], \\\n",
    "                s=0.2*np.ones(samples), \\\n",
    "                label='SM1')\n",
    "    plt.xlabel('x')\n",
    "    plt.ylabel('y')\n",
    "    plt.legend()\n",
    "    plt.subplot(122)\n",
    "    plt.scatter(Beam_Status['SM2']['x']+Delta['SM2']['x'], Beam_Status['SM2']['y']+Delta['SM2']['y'],  \\\n",
    "                s=0.2*np.ones(samples), \\\n",
    "                label='SM2')\n",
    "    plt.xlabel('x')\n",
    "    plt.ylabel('y')\n",
    "    plt.legend()\n",
    "    plt.show()\n",
    "\n",
    "def scan_range(Samples, Rng, Beam_status, R_max, scatter_plot=False, make_im=False, disp_each_step=False):\n",
    "    delta = sample_d(Samples, Rng, deepcopy(Beam_status))\n",
    "    if scatter_plot:\n",
    "        plot_Beam_st(Beam_status, delta)\n",
    "#     print(delta)\n",
    "    for i in range(Samples):\n",
    "        if i == 0:\n",
    "            updated_Beam_status = deepcopy(Beam_status)\n",
    "        for sm in Beam_status.keys():\n",
    "            for direction in beam_status[sm].keys():\n",
    "                Beam_status[sm][direction] += delta[sm][direction][i]\n",
    "        R_new, IMG = Reward(deepcopy(Beam_status))\n",
    "        if disp_each_step:\n",
    "            disp = True\n",
    "        else:\n",
    "            disp = R_new > R_max\n",
    "        # update Beam_status\n",
    "        if R_new > R_max:\n",
    "            R_max = R_new\n",
    "            updated_Beam_status = deepcopy(Beam_status)\n",
    "            t2 = time.time() - t1\n",
    "            checkpoints.append([t2, R_new])\n",
    "            print(i, \"time: {}, Power: {}\".format(t2, R_new))\n",
    "        if disp:\n",
    "            # display\n",
    "            print(i%samples)\n",
    "            out_vals(R_new, deepcopy(Beam_status), IMG, make_image=make_im)\n",
    "    return deepcopy(updated_Beam_status), IMG, R_max"
   ]
  },
  {
   "cell_type": "markdown",
   "metadata": {},
   "source": [
    "### Check whether able to see GPU"
   ]
  },
  {
   "cell_type": "code",
   "execution_count": 4,
   "metadata": {},
   "outputs": [],
   "source": [
    "# k.tensorflow_backend._get_available_gpus()"
   ]
  },
  {
   "cell_type": "markdown",
   "metadata": {},
   "source": [
    "### Allocate only required amount of GPU memory"
   ]
  },
  {
   "cell_type": "code",
   "execution_count": 5,
   "metadata": {},
   "outputs": [],
   "source": [
    "# config = tf.ConfigProto()\n",
    "# config.gpu_options.allow_growth = True\n",
    "# session = tf.Session(config=config)"
   ]
  },
  {
   "cell_type": "markdown",
   "metadata": {},
   "source": [
    "# Base Model"
   ]
  },
  {
   "cell_type": "code",
   "execution_count": 16,
   "metadata": {},
   "outputs": [],
   "source": [
    "#seed\n",
    "np.random.seed(197)\n",
    "\n",
    "base = pykat.finesse.kat()\n",
    "base.verbose = False\n",
    "base.parse(\"\"\"\n",
    "\n",
    "# Input laser\n",
    "# -----------------------------\n",
    "l laser 1e-2 0 n0            # Laser (Power = 10 mW, wavelength offset = 0)\n",
    "\n",
    "# Gaussian Beam\n",
    "gauss GB laser n0 64.5e-6 0   # define beam waist\n",
    "\n",
    "s s00 0.21801 n0 nL1a         # Space (Length = 0.218 m)\n",
    "\n",
    "# Lens of f=150mm\n",
    "lens Lns 0.150 nL1a nL1b\n",
    "\n",
    "s s0 0.032 nL1b nSM1a        # Space (Length = 0.032 m)\n",
    "\n",
    "# Steering mirrors\n",
    "# -----------------------------\n",
    "bs SM1 1 0 0 45 nSM1a nSM1b nSM1c nSM1d  # Beam splitter (R=1, T=0, phi(tuning)=0, alpha=45)\n",
    "\n",
    "s s1 0.35 nSM1b nSM2a\n",
    "\n",
    "bs SM2 1 0 0 45 nSM2a nSM2b nSM2c nSM2d\n",
    "\n",
    "s s2 0.0884 nSM2b nM1a\n",
    "\n",
    "# Cavity\n",
    "# -----------------------------\n",
    "# cavity mirror1 (R=0.95, T=0.05, phi=0)\n",
    "m M1 0.95 0.05 0 nM1a nM1b\n",
    "\n",
    "# cavity length 122.7mm for waist 140um\n",
    "s lCav 0.1227 nM1b nM2a\n",
    "\n",
    "# cavity mirror2 (R=0.99, T=0.01, phi=0)\n",
    "m M2 0.99 0.01 0 nM2a nM2b\n",
    "\n",
    "# Setting RoC of M2\n",
    "attr M2 Rc 0.150\n",
    "\n",
    "# Defning the cavity for spatial mode basis computation\n",
    "cav cav1 M1 nM1b M2 nM2a\n",
    "\n",
    "# Output\n",
    "# -----------------------------\n",
    "s sOut 0.1 nM2b nOut\n",
    "\n",
    "# Photo diode\n",
    "pd P nOut\n",
    "\n",
    "# Amplitude detector\n",
    "ad AD11 1 1 1064 nOut\n",
    "\n",
    "# Beam camera\n",
    "# beam CCD nOut\n",
    "\n",
    "# max order of modes\n",
    "maxtem 4\n",
    "\n",
    "trace 8\n",
    "\"\"\")\n",
    "\n",
    "# base.parse(\"\"\"\n",
    "# ## Detectors ##\n",
    "\n",
    "# # Photo diodes measureing DC-power\n",
    "# pd refl nM1a          # Reflected field\n",
    "# pd circ nM1b          # Circulating field\n",
    "# pd tran nM2b          # Transmitted field\n",
    "\n",
    "# ## Simulation instructions ##\n",
    "# xaxis M2 phi lin -450 90 2000   # Varying tuning of input mirror m1.\n",
    "# yaxis abs                       # Plotting the amplitude of the detector measurements. \n",
    "# \"\"\")\n",
    "# out1 = base.run()"
   ]
  },
  {
   "cell_type": "code",
   "execution_count": 7,
   "metadata": {},
   "outputs": [],
   "source": [
    "# Adding simulation instructions\n",
    "base.parse(\"\"\"\n",
    "xaxis CCD x lin -15 15 63\n",
    "x2axis CCD y lin -15 15 63\n",
    "yaxis abs\n",
    "\"\"\")"
   ]
  },
  {
   "cell_type": "code",
   "execution_count": 10,
   "metadata": {},
   "outputs": [],
   "source": [
    "aa= base.AD11"
   ]
  },
  {
   "cell_type": "code",
   "execution_count": null,
   "metadata": {},
   "outputs": [],
   "source": []
  },
  {
   "cell_type": "code",
   "execution_count": 17,
   "metadata": {},
   "outputs": [
    {
     "name": "stdout",
     "output_type": "stream",
     "text": [
      "\n",
      "------------------------------------------------------------------------\n",
      "                     FINESSE 2.2                 (build 2.2-11-ga945eda)\n",
      "       o_.-=.        Frequency domain INterferomEter Simulation SoftwarE\n",
      "      (\\'\".\\|        03.10.2017         http://www.gwoptics.org/finesse/\n",
      "      .>' (_--.      \n",
      "   _=/d   ,^\\        Input file /tmp/tmpvit_efrj.kat,\n",
      "  ~~ \\)-'   '        Output file /tmp/tmpvit_efrj.out,\n",
      "     / |             Gnuplot file /tmp/tmpvit_efrj.gnu \n",
      "    '  '                                        Wed Jul 17 16:24:35 2019\n",
      "------------------------------------------------------------------------\n",
      " 'noxaxis' has been set, ignoring all other xaxis commands\n",
      "0: node nM1b(12); M1(0), lCav(8); n=1  (M1 --> nM1b)\n",
      "   x, y: w0=140.006332748346um w=140.006332748346um z=0m z_R=57.8766792412972mm Rc=infGm\n",
      "   q=0 + 0.0578766792412972i gamma=2.41904571208443mrad\n",
      "1: node nM2a(13); lCav(8), M2(1); n=1  (lCav --> nM2a)\n",
      "   x, y: w0=140.006332748346um w=328.179905848029um z=122.7mm z_R=57.8766792412972mm Rc=150mm\n",
      "   q=(0.1227 + 0.0578766792412972i) gamma=2.41904571208443mrad\n",
      "2: node nM2b(14); M2(1), sOut(9); n=1  (M2 --> nM2b)\n",
      "   x, y: w0=140.006332748346um w=328.179905848029um z=122.7mm z_R=57.8766792412972mm Rc=150mm\n",
      "   q=(0.1227 + 0.0578766792412972i) gamma=2.41904571208443mrad\n",
      "3: node nOut(15); sOut(9), ---(-32768); n=1  (sOut --> nOut)\n",
      "   x, y: w0=140.006332748346um w=556.617109250626um z=222.7mm z_R=57.8766792412972mm Rc=237.741356084419mm\n",
      "   q=(0.2227 + 0.0578766792412972i) gamma=2.41904571208443mrad\n",
      "4: node nM1a(11); M1(0), s2(7); n=1  (M1 --> nM1a)\n",
      "   x, y: w0=140.006332748346um w=140.006332748346um z=0m z_R=57.8766792412972mm Rc=infGm\n",
      "   q=0 + 0.0578766792412972i gamma=2.41904571208443mrad\n",
      "5: node nSM2b(8); s2(7), SM2(3); n=1  (s2 --> nSM2b)\n",
      "   x, y: w0=140.006332748346um w=255.599053174402um z=88.4mm z_R=57.8766792412972mm Rc=126.292647058824mm\n",
      "   q=(0.0884 + 0.0578766792412972i) gamma=2.41904571208443mrad\n",
      "6: node nSM2a(7); SM2(3), s1(6); n=1  (SM2 --> nSM2a)\n",
      "   x, y: w0=140.006332748346um w=255.599053174402um z=88.4mm z_R=57.8766792412972mm Rc=126.292647058824mm\n",
      "   q=(0.0884 + 0.0578766792412972i) gamma=2.41904571208443mrad\n",
      "7: node nSM1b(4); s1(6), SM1(2); n=1  (s1 --> nSM1b)\n",
      "   x, y: w0=140.006332748346um w=1.06971139571369mm z=438.4mm z_R=57.8766792412972mm Rc=446.040761861314mm\n",
      "   q=(0.4384 + 0.0578766792412972i) gamma=2.41904571208443mrad\n",
      "8: node nSM1a(3); SM1(2), s0(5); n=1  (SM1 --> nSM1a)\n",
      "   x, y: w0=140.006332748346um w=1.06971139571369mm z=438.4mm z_R=57.8766792412972mm Rc=446.040761861314mm\n",
      "   q=(0.4384 + 0.0578766792412972i) gamma=2.41904571208443mrad\n",
      "9: node nL1b(2); s0(5), Lns(10); n=1  (s0 --> nL1b)\n",
      "   x, y: w0=140.006332748346um w=1.14649974186705mm z=470.4mm z_R=57.8766792412972mm Rc=477.520982142857mm\n",
      "   q=(0.4704 + 0.0578766792412972i) gamma=2.41904571208443mrad\n",
      "10: node nL1a(1); Lns(10), s00(4); n=1  (s00 --> nL1a)\n",
      "   x, y: w0=64.4999999999999um w=1.14655987896617mm z=218.01mm z_R=12.2836568017828mm Rc=218.702116070015mm\n",
      "   q=(0.21801 + 0.0122836568017828i) gamma=5.25087936278378mrad\n",
      "11: node n0(0); s00(4), laser(11); n=1  (laser --> n0)\n",
      "   x, y: w0=64.4999999999999um w=64.4999999999999um z=0m z_R=12.2836568017828mm Rc=infGm\n",
      "   q=0 + 0.0122836568017828i gamma=5.25087936278378mrad\n",
      "12: node nSM1c(5); SM1(2), ---(-32768); n=1  (SM1 --> nSM1c)\n",
      "   x, y: w0=140.006332748346um w=1.06971139571369mm z=-438.4mm z_R=57.8766792412972mm Rc=-446.040761861314mm\n",
      "   q=(-0.4384 + 0.0578766792412972i) gamma=2.41904571208443mrad\n",
      "13: node nSM1d(6); SM1(2), ---(-32768); n=1  (SM1 --> nSM1d)\n",
      "   x, y: w0=140.006332748346um w=1.06971139571369mm z=438.4mm z_R=57.8766792412972mm Rc=446.040761861314mm\n",
      "   q=(0.4384 + 0.0578766792412972i) gamma=2.41904571208443mrad\n",
      "14: node nSM2c(9); SM2(3), ---(-32768); n=1  (SM2 --> nSM2c)\n",
      "   x, y: w0=140.006332748346um w=255.599053174402um z=-88.4mm z_R=57.8766792412972mm Rc=-126.292647058824mm\n",
      "   q=(-0.0884 + 0.0578766792412972i) gamma=2.41904571208443mrad\n",
      "15: node nSM2d(10); SM2(3), ---(-32768); n=1  (SM2 --> nSM2d)\n",
      "   x, y: w0=140.006332748346um w=255.599053174402um z=88.4mm z_R=57.8766792412972mm Rc=126.292647058824mm\n",
      "   q=(0.0884 + 0.0578766792412972i) gamma=2.41904571208443mrad\n",
      "\n",
      " \n",
      "---- Start interferometer mismatches ----\n",
      " \n",
      "---- End interferometer mismatches ----\n",
      " \n",
      " computation time:  0.00904137s\n",
      "\n"
     ]
    }
   ],
   "source": [
    "kat = base.deepcopy()\n",
    "kat.parse('mismatches')\n",
    "kat.noxaxis = True\n",
    "out = kat.run()\n",
    "print(out.stdout)"
   ]
  },
  {
   "cell_type": "code",
   "execution_count": null,
   "metadata": {},
   "outputs": [],
   "source": []
  },
  {
   "cell_type": "code",
   "execution_count": null,
   "metadata": {},
   "outputs": [],
   "source": []
  },
  {
   "cell_type": "code",
   "execution_count": 49,
   "metadata": {},
   "outputs": [
    {
     "name": "stdout",
     "output_type": "stream",
     "text": [
      "{'SM1': {'x': 0.00021038625411786232, 'y': 0.0008792983812693636}, 'SM2': {'x': -0.0018274278456567093, 'y': -0.004177074567593905}}\n",
      "##########Range:  3.5  x waist\n"
     ]
    },
    {
     "data": {
      "image/png": "[encoded data removed]",
      "text/plain": [
       "<Figure size 432x288 with 2 Axes>"
      ]
     },
     "metadata": {
      "needs_background": "light"
     },
     "output_type": "display_data"
    },
    {
     "name": "stdout",
     "output_type": "stream",
     "text": [
      "0 time: 0.248978853225708, Power: 2.144977533521579e-13\n",
      "0\n",
      "avg: 2.144977533521579e-13%, max: 8.615840520251046e-13%\n",
      "(x1,y1,x2,y2): (6.295056226344613e-05,0.0014332263234508162,-0.0021132239510479427,-0.0018847959034208025)\n"
     ]
    },
    {
     "data": {
      "image/png": "[encoded data removed]",
      "text/plain": [
       "<Figure size 432x288 with 2 Axes>"
      ]
     },
     "metadata": {
      "needs_background": "light"
     },
     "output_type": "display_data"
    },
    {
     "name": "stdout",
     "output_type": "stream",
     "text": [
      "##########Range:  2.2135943621178655  x waist\n"
     ]
    },
    {
     "data": {
      "image/png": "[encoded data removed]",
      "text/plain": [
       "<Figure size 432x288 with 2 Axes>"
      ]
     },
     "metadata": {
      "needs_background": "light"
     },
     "output_type": "display_data"
    },
    {
     "name": "stdout",
     "output_type": "stream",
     "text": [
      "0 time: 9.518410444259644, Power: 3.43749197385288e-08\n",
      "0\n",
      "avg: 3.43749197385288e-08%, max: 1.390627021244925e-07%\n",
      "(x1,y1,x2,y2): (-2.635337156499261e-05,0.0013464038961217934,-4.1173499431170716e-05,-0.0008659143054553771)\n"
     ]
    },
    {
     "data": {
      "image/png": "[encoded data removed]",
      "text/plain": [
       "<Figure size 432x288 with 2 Axes>"
      ]
     },
     "metadata": {
      "needs_background": "light"
     },
     "output_type": "display_data"
    },
    {
     "name": "stdout",
     "output_type": "stream",
     "text": [
      "##########Range:  1.4000000000000001  x waist\n"
     ]
    },
    {
     "data": {
      "image/png": "[encoded data removed]",
      "text/plain": [
       "<Figure size 432x288 with 2 Axes>"
      ]
     },
     "metadata": {
      "needs_background": "light"
     },
     "output_type": "display_data"
    },
    {
     "name": "stdout",
     "output_type": "stream",
     "text": [
      "1 time: 19.16551947593689, Power: 3.751479917342027e-07\n",
      "1\n",
      "avg: 3.751479917342027e-07%, max: 1.5147632648099484e-06%\n",
      "(x1,y1,x2,y2): (-0.00026596742817075697,0.0010298837470390817,-0.002237339931000857,-0.00038498010372885866)\n"
     ]
    },
    {
     "data": {
      "image/png": "[encoded data removed]",
      "text/plain": [
       "<Figure size 432x288 with 2 Axes>"
      ]
     },
     "metadata": {
      "needs_background": "light"
     },
     "output_type": "display_data"
    },
    {
     "name": "stdout",
     "output_type": "stream",
     "text": [
      "##########Range:  0.8854377448471463  x waist\n"
     ]
    },
    {
     "data": {
      "image/png": "[encoded data removed]",
      "text/plain": [
       "<Figure size 432x288 with 2 Axes>"
      ]
     },
     "metadata": {
      "needs_background": "light"
     },
     "output_type": "display_data"
    },
    {
     "name": "stdout",
     "output_type": "stream",
     "text": [
      "3 time: 29.353909969329834, Power: 8.256337729730132e-07\n",
      "3\n",
      "avg: 8.256337729730132e-07%, max: 3.2766255330158877e-06%\n",
      "(x1,y1,x2,y2): (-0.0004379260932598886,0.001110611522190681,-0.0012343680521672315,-0.0021264992149147895)\n"
     ]
    },
    {
     "data": {
      "image/png": "[encoded data removed]",
      "text/plain": [
       "<Figure size 432x288 with 2 Axes>"
      ]
     },
     "metadata": {
      "needs_background": "light"
     },
     "output_type": "display_data"
    },
    {
     "name": "stdout",
     "output_type": "stream",
     "text": [
      "6 time: 29.801521062850952, Power: 5.272405891361746e-05\n",
      "6\n",
      "avg: 5.272405891361746e-05%, max: 0.00023289270471548235%\n",
      "(x1,y1,x2,y2): (-0.00034994259190118703,0.0007506587279166548,-0.0018566885963248723,-0.003046241865362681)\n"
     ]
    },
    {
     "data": {
      "image/png": "[encoded data removed]",
      "text/plain": [
       "<Figure size 432x288 with 2 Axes>"
      ]
     },
     "metadata": {
      "needs_background": "light"
     },
     "output_type": "display_data"
    },
    {
     "name": "stdout",
     "output_type": "stream",
     "text": [
      "##########Range:  0.56  x waist\n"
     ]
    },
    {
     "data": {
      "image/png": "[encoded data removed]",
      "text/plain": [
       "<Figure size 432x288 with 2 Axes>"
      ]
     },
     "metadata": {
      "needs_background": "light"
     },
     "output_type": "display_data"
    },
    {
     "name": "stdout",
     "output_type": "stream",
     "text": [
      "0 time: 38.6935613155365, Power: 0.0038338012886726513\n",
      "0\n",
      "avg: 0.0038338012886726513%, max: 0.01734701035752645%\n",
      "(x1,y1,x2,y2): (-0.00030319065418733603,0.0005787502556961606,-0.0018297977084714002,-0.002554392279880142)\n"
     ]
    },
    {
     "data": {
      "image/png": "[encoded data removed]",
      "text/plain": [
       "<Figure size 432x288 with 2 Axes>"
      ]
     },
     "metadata": {
      "needs_background": "light"
     },
     "output_type": "display_data"
    },
    {
     "name": "stdout",
     "output_type": "stream",
     "text": [
      "1 time: 38.93177676200867, Power: 0.4760617698855603\n",
      "1\n",
      "avg: 0.4760617698855603%, max: 1.8937737361366171%\n",
      "(x1,y1,x2,y2): (-0.00029080358467421336,0.0006358090354585868,-0.0011632541380322404,-0.0018309990693020888)\n"
     ]
    },
    {
     "data": {
      "image/png": "[encoded data removed]",
      "text/plain": [
       "<Figure size 432x288 with 2 Axes>"
      ]
     },
     "metadata": {
      "needs_background": "light"
     },
     "output_type": "display_data"
    },
    {
     "name": "stdout",
     "output_type": "stream",
     "text": [
      "14 time: 40.377076864242554, Power: 1.8346934965220247\n",
      "14\n",
      "avg: 1.8346934965220247%, max: 7.176313705729543%\n",
      "(x1,y1,x2,y2): (-0.0001998018489137088,0.00040006815201847784,-0.0014463247799631732,-0.000942976266119308)\n"
     ]
    },
    {
     "data": {
      "image/png": "[encoded data removed]",
      "text/plain": [
       "<Figure size 432x288 with 2 Axes>"
      ]
     },
     "metadata": {
      "needs_background": "light"
     },
     "output_type": "display_data"
    },
    {
     "name": "stdout",
     "output_type": "stream",
     "text": [
      "15 time: 40.61429309844971, Power: 1.867116173801218\n",
      "15\n",
      "avg: 1.867116173801218%, max: 7.250612949356536%\n",
      "(x1,y1,x2,y2): (-9.474168878763939e-05,0.0003072855232116158,-0.0014355080843210168,-0.0009593105423235833)\n"
     ]
    },
    {
     "data": {
      "image/png": "[encoded data removed]",
      "text/plain": [
       "<Figure size 432x288 with 2 Axes>"
      ]
     },
     "metadata": {
      "needs_background": "light"
     },
     "output_type": "display_data"
    },
    {
     "name": "stdout",
     "output_type": "stream",
     "text": [
      "##########Range:  0.35417509793885854  x waist\n"
     ]
    },
    {
     "data": {
      "image/png": "[encoded data removed]",
      "text/plain": [
       "<Figure size 432x288 with 2 Axes>"
      ]
     },
     "metadata": {
      "needs_background": "light"
     },
     "output_type": "display_data"
    },
    {
     "name": "stdout",
     "output_type": "stream",
     "text": [
      "5 time: 49.175363302230835, Power: 2.0245949738180706\n",
      "5\n",
      "avg: 2.0245949738180706%, max: 7.909654011861109%\n",
      "(x1,y1,x2,y2): (-0.0002721318658821546,0.00012378853928132001,-0.0016500296779690567,0.00016537493268630886)\n"
     ]
    },
    {
     "data": {
      "image/png": "[encoded data removed]",
      "text/plain": [
       "<Figure size 432x288 with 2 Axes>"
      ]
     },
     "metadata": {
      "needs_background": "light"
     },
     "output_type": "display_data"
    },
    {
     "name": "stdout",
     "output_type": "stream",
     "text": [
      "6 time: 49.414751291275024, Power: 6.417063909792119\n",
      "6\n",
      "avg: 6.417063909792119%, max: 25.38577802267021%\n",
      "(x1,y1,x2,y2): (-0.0002734251150648113,3.516146140544979e-05,-0.0012077850437683239,0.0006079029178094481)\n"
     ]
    },
    {
     "data": {
      "image/png": "[encoded data removed]",
      "text/plain": [
       "<Figure size 432x288 with 2 Axes>"
      ]
     },
     "metadata": {
      "needs_background": "light"
     },
     "output_type": "display_data"
    },
    {
     "name": "stdout",
     "output_type": "stream",
     "text": [
      "##########Range:  0.22400000000000003  x waist\n"
     ]
    },
    {
     "data": {
      "image/png": "[encoded data removed]",
      "text/plain": [
       "<Figure size 432x288 with 2 Axes>"
      ]
     },
     "metadata": {
      "needs_background": "light"
     },
     "output_type": "display_data"
    },
    {
     "name": "stdout",
     "output_type": "stream",
     "text": [
      "0 time: 58.65353274345398, Power: 10.898940475689505\n",
      "0\n",
      "avg: 10.898940475689505%, max: 43.34753575881863%\n",
      "(x1,y1,x2,y2): (-0.0002563539662717002,9.891012280518346e-06,-0.0010035876479771446,0.00041395291792930004)\n"
     ]
    },
    {
     "data": {
      "image/png": "[encoded data removed]",
      "text/plain": [
       "<Figure size 432x288 with 2 Axes>"
      ]
     },
     "metadata": {
      "needs_background": "light"
     },
     "output_type": "display_data"
    },
    {
     "name": "stdout",
     "output_type": "stream",
     "text": [
      "2 time: 59.008496046066284, Power: 11.635288674441444\n",
      "2\n",
      "avg: 11.635288674441444%, max: 46.05019535921726%\n",
      "(x1,y1,x2,y2): (-0.0002126141375087836,5.467196328083585e-06,-0.0010784355533518602,0.00013907578535270432)\n"
     ]
    },
    {
     "data": {
      "image/png": "[encoded data removed]",
      "text/plain": [
       "<Figure size 432x288 with 2 Axes>"
      ]
     },
     "metadata": {
      "needs_background": "light"
     },
     "output_type": "display_data"
    },
    {
     "name": "stdout",
     "output_type": "stream",
     "text": [
      "3 time: 59.247398853302, Power: 13.928552435501235\n",
      "3\n",
      "avg: 13.928552435501235%, max: 55.702660185136175%\n",
      "(x1,y1,x2,y2): (-0.00024157446925057328,-3.993326086718107e-05,-0.0008259807821577787,0.00036415875818336153)\n"
     ]
    },
    {
     "data": {
      "image/png": "[encoded data removed]",
      "text/plain": [
       "<Figure size 432x288 with 2 Axes>"
      ]
     },
     "metadata": {
      "needs_background": "light"
     },
     "output_type": "display_data"
    },
    {
     "name": "stdout",
     "output_type": "stream",
     "text": [
      "6 time: 59.68052339553833, Power: 14.317404444902527\n",
      "6\n",
      "avg: 14.317404444902527%, max: 57.3321458100157%\n",
      "(x1,y1,x2,y2): (-0.0002504432897501968,-3.113957125294244e-05,-0.0008069703900669775,-1.0337627783584306e-05)\n"
     ]
    },
    {
     "data": {
      "image/png": "[encoded data removed]",
      "text/plain": [
       "<Figure size 432x288 with 2 Axes>"
      ]
     },
     "metadata": {
      "needs_background": "light"
     },
     "output_type": "display_data"
    },
    {
     "name": "stdout",
     "output_type": "stream",
     "text": [
      "##########Range:  0.1416700391755434  x waist\n"
     ]
    },
    {
     "data": {
      "image/png": "[encoded data removed]",
      "text/plain": [
       "<Figure size 432x288 with 2 Axes>"
      ]
     },
     "metadata": {
      "needs_background": "light"
     },
     "output_type": "display_data"
    },
    {
     "name": "stdout",
     "output_type": "stream",
     "text": [
      "0 time: 68.5843768119812, Power: 16.700477457019385\n",
      "0\n",
      "avg: 16.700477457019385%, max: 66.96753470738223%\n",
      "(x1,y1,x2,y2): (-0.00020846115785351632,-1.9033519478889726e-06,-0.0007039240262234963,-1.2290902945821544e-05)\n"
     ]
    },
    {
     "data": {
      "image/png": "[encoded data removed]",
      "text/plain": [
       "<Figure size 432x288 with 2 Axes>"
      ]
     },
     "metadata": {
      "needs_background": "light"
     },
     "output_type": "display_data"
    },
    {
     "name": "stdout",
     "output_type": "stream",
     "text": [
      "1 time: 68.82430768013, Power: 18.96245569453965\n",
      "1\n",
      "avg: 18.96245569453965%, max: 76.57708765651098%\n",
      "(x1,y1,x2,y2): (-0.00017781759690940454,1.2443412020191037e-05,-0.0004820182272984086,-6.965241018499795e-05)\n"
     ]
    },
    {
     "data": {
      "image/png": "[encoded data removed]",
      "text/plain": [
       "<Figure size 432x288 with 2 Axes>"
      ]
     },
     "metadata": {
      "needs_background": "light"
     },
     "output_type": "display_data"
    },
    {
     "name": "stdout",
     "output_type": "stream",
     "text": [
      "2 time: 69.07879114151001, Power: 19.66399510842559\n",
      "2\n",
      "avg: 19.66399510842559%, max: 79.21939429685496%\n",
      "(x1,y1,x2,y2): (-0.00015375622353887188,4.793685354871839e-05,-0.0004978746371787541,-3.588378928066494e-05)\n"
     ]
    },
    {
     "data": {
      "image/png": "[encoded data removed]",
      "text/plain": [
       "<Figure size 432x288 with 2 Axes>"
      ]
     },
     "metadata": {
      "needs_background": "light"
     },
     "output_type": "display_data"
    },
    {
     "name": "stdout",
     "output_type": "stream",
     "text": [
      "##########Range:  0.08960000000000001  x waist\n"
     ]
    },
    {
     "data": {
      "image/png": "[encoded data removed]",
      "text/plain": [
       "<Figure size 432x288 with 2 Axes>"
      ]
     },
     "metadata": {
      "needs_background": "light"
     },
     "output_type": "display_data"
    },
    {
     "name": "stdout",
     "output_type": "stream",
     "text": [
      "1 time: 78.59780693054199, Power: 19.664497900277784\n",
      "1\n",
      "avg: 19.664497900277784%, max: 78.99417269576334%\n",
      "(x1,y1,x2,y2): (-0.00014154249859390792,3.1058609402811775e-05,-0.0005614581798731766,-7.359069007822151e-05)\n"
     ]
    },
    {
     "data": {
      "image/png": "[encoded data removed]",
      "text/plain": [
       "<Figure size 432x288 with 2 Axes>"
      ]
     },
     "metadata": {
      "needs_background": "light"
     },
     "output_type": "display_data"
    },
    {
     "name": "stdout",
     "output_type": "stream",
     "text": [
      "6 time: 79.21230578422546, Power: 19.745333892445704\n",
      "6\n",
      "avg: 19.745333892445704%, max: 79.86038405627728%\n",
      "(x1,y1,x2,y2): (-0.0001621751370280056,2.622506602911924e-05,-0.00040897251431521207,-0.0001298581384553508)\n"
     ]
    },
    {
     "data": {
      "image/png": "[encoded data removed]",
      "text/plain": [
       "<Figure size 432x288 with 2 Axes>"
      ]
     },
     "metadata": {
      "needs_background": "light"
     },
     "output_type": "display_data"
    },
    {
     "name": "stdout",
     "output_type": "stream",
     "text": [
      "53 time: 83.64534425735474, Power: 19.8351111066458\n",
      "53\n",
      "avg: 19.8351111066458%, max: 79.89528743375847%\n",
      "(x1,y1,x2,y2): (-3.335044881841512e-06,7.008741855148334e-05,-0.000290659425672219,0.00019702507891003305)\n"
     ]
    },
    {
     "data": {
      "image/png": "[encoded data removed]",
      "text/plain": [
       "<Figure size 432x288 with 2 Axes>"
      ]
     },
     "metadata": {
      "needs_background": "light"
     },
     "output_type": "display_data"
    },
    {
     "name": "stdout",
     "output_type": "stream",
     "text": [
      "54 time: 83.88793969154358, Power: 21.700649699909082\n",
      "54\n",
      "avg: 21.700649699909082%, max: 87.49153509514888%\n",
      "(x1,y1,x2,y2): (-6.008100541831026e-06,5.789652906295719e-05,-0.00015801593397981911,0.000216112221422416)\n"
     ]
    },
    {
     "data": {
      "image/png": "[encoded data removed]",
      "text/plain": [
       "<Figure size 432x288 with 2 Axes>"
      ]
     },
     "metadata": {
      "needs_background": "light"
     },
     "output_type": "display_data"
    },
    {
     "name": "stdout",
     "output_type": "stream",
     "text": [
      "57 time: 84.32077956199646, Power: 21.765068404822305\n",
      "57\n",
      "avg: 21.765068404822305%, max: 87.6902590040611%\n",
      "(x1,y1,x2,y2): (-1.4864336866968323e-06,4.2222811815391064e-06,-0.0002880503031837991,0.00014299433619333507)\n"
     ]
    },
    {
     "data": {
      "image/png": "[encoded data removed]",
      "text/plain": [
       "<Figure size 432x288 with 2 Axes>"
      ]
     },
     "metadata": {
      "needs_background": "light"
     },
     "output_type": "display_data"
    },
    {
     "name": "stdout",
     "output_type": "stream",
     "text": [
      "##########Range:  0.05666801567021737  x waist\n"
     ]
    },
    {
     "data": {
      "image/png": "[encoded data removed]",
      "text/plain": [
       "<Figure size 432x288 with 2 Axes>"
      ]
     },
     "metadata": {
      "needs_background": "light"
     },
     "output_type": "display_data"
    }
   ],
   "source": [
    "# waist size in m\n",
    "waist = 140e-6\n",
    "# range of movement of the waist center at the waist location in the units of waist size\n",
    "Range = 3.5\n",
    "# cumulative distance of waist from SM1 in m\n",
    "d1 = 0.35+0.0884\n",
    "# cumulative distance of waist from SM2 in m\n",
    "d2 = 0.0884\n",
    "dist_to_w = {'SM1': d1, 'SM2': d2}\n",
    "# Scale for initial random misalignment in the units of waist size\n",
    "a = 3.\n",
    "samples = 100\n",
    "# after each iteration, range shrinks by\n",
    "shrink_factor = 2. / samples ** 0.25  # make sure it is < 1.\n",
    "\n",
    "np.random.seed(198)\n",
    "\n",
    "beam_status = {'SM1': {'x': 0., 'y': 0.}, 'SM2': {'x': 0., 'y': 0.}}\n",
    "t1 = time.time()\n",
    "checkpoints = []\n",
    "# random alignment initially\n",
    "for sm in beam_status.keys():\n",
    "    for direction in beam_status[sm].keys():\n",
    "        # give angle in deg\n",
    "        beam_status[sm][direction] = (2. * a * np.random.random() - a)\n",
    "        beam_status[sm][direction] *= waist / dist_to_w[sm]\n",
    "\n",
    "print(beam_status)\n",
    "R_Max = 0.\n",
    "# plot sampling\n",
    "# plt.ion()\n",
    "# plt.figure(figsize=(15,8))\n",
    "# plt.show()\n",
    "for j in range(10):\n",
    "    print(\"##########Range: \", Range, \" x waist\")\n",
    "    beam_status, IMG, R_Max = scan_range(samples, Range, deepcopy(beam_status), \\\n",
    "                                         R_Max, scatter_plot=True, make_im=True, disp_each_step=False)\n",
    "    Range *= shrink_factor"
   ]
  },
  {
   "cell_type": "code",
   "execution_count": null,
   "metadata": {},
   "outputs": [],
   "source": []
  },
  {
   "cell_type": "code",
   "execution_count": null,
   "metadata": {},
   "outputs": [],
   "source": []
  },
  {
   "cell_type": "code",
   "execution_count": null,
   "metadata": {},
   "outputs": [],
   "source": []
  },
  {
   "cell_type": "code",
   "execution_count": null,
   "metadata": {},
   "outputs": [],
   "source": []
  },
  {
   "cell_type": "code",
   "execution_count": null,
   "metadata": {},
   "outputs": [],
   "source": []
  },
  {
   "cell_type": "code",
   "execution_count": null,
   "metadata": {},
   "outputs": [],
   "source": []
  },
  {
   "cell_type": "code",
   "execution_count": null,
   "metadata": {},
   "outputs": [],
   "source": [
    "1e-2 * (0.35+0.0884) / 3.14 * 180"
   ]
  },
  {
   "cell_type": "code",
   "execution_count": null,
   "metadata": {},
   "outputs": [],
   "source": [
    "from copy import deepcopy\n",
    "def testfun(b1):\n",
    "    b1['test'] = 2\n",
    "    print(b1)\n",
    "    \n",
    "b = {'hi':1}\n",
    "testfun(deepcopy(b))\n",
    "b"
   ]
  },
  {
   "cell_type": "code",
   "execution_count": null,
   "metadata": {},
   "outputs": [],
   "source": [
    "Range = 1e-2\n",
    "a = 5e-3\n",
    "samples = 50\n",
    "\n",
    "np.random.seed(197)\n",
    "def Reward(b1x, b2x, b1y, b2y):\n",
    "    # find reward fn\n",
    "    base.SM1.xbeta = b1x\n",
    "    base.SM1.ybeta = b1y\n",
    "    base.SM2.xbeta = b2x\n",
    "    base.SM2.ybeta = b2y\n",
    "    out = base.run()\n",
    "    Img = np.array(out['CCD'])\n",
    "    R_fn = Img.sum()/n_pixl**2/1.95749\n",
    "    return R_fn, b1x, b1y, b2x, b2y, Img\n",
    "\n",
    "def out_vals(R_fn, b1x, b1y, b2x, b2y, Img):\n",
    "    print(\"avg: {}%, max: {}%\\n(x1,y1,x2,y2): ({},{},{},{})\".format(R_fn, \\\n",
    "                                                                  Img.max()/71.90626, b1x, b1y, b2x, b2y))\n",
    "    Img /= np.max(Img)\n",
    "    Img = 1. - Img\n",
    "    plt.imshow(Img[::-1], cmap=cm.binary)\n",
    "    plt.colorbar()\n",
    "    plt.show()\n",
    "    \n",
    "def sample_d(samples, Range):\n",
    "    dx1 = np.random.random(100*samples) * 2*Range - Range\n",
    "    dx2 = np.random.random(100*samples) * 2*Range - Range\n",
    "    dy1 = np.random.random(100*samples) * 2*Range - Range\n",
    "    dy2 = np.random.random(100*samples) * 2*Range - Range\n",
    "    i_acc = np.where((dx1**2. + dx2**2. + dy1**2. + dy2**2.) < Range**2.)\n",
    "    dx1 = dx1[i_acc][:samples]\n",
    "    dx2 = dx2[i_acc][:samples]\n",
    "    dy1 = dy1[i_acc][:samples]\n",
    "    dy2 = dy2[i_acc][:samples]\n",
    "    return dx1, dx2, dy1, dy2\n",
    "\n",
    "t_c = 0.\n",
    "t1 = time.time()\n",
    "for j in range(10):\n",
    "    print(Range)\n",
    "    Range /= 2.\n",
    "    print(Range)\n",
    "    if j == 0:\n",
    "        b1x, b2x, b1y, b2y = (np.random.random()*a, np.random.random()*a, \\\n",
    "                      np.random.random()*a, np.random.random()*a)\n",
    "    else:\n",
    "        b1x, b2x, b1y, b2y = (b1x+dx1[i_max], b2x+dx2[i_max], b1y+dy1[i_max], b2y+dy2[i_max])\n",
    "    dx1, dx2, dy1, dy2 = sample_d(samples, Range)\n",
    "    for i in range(samples):\n",
    "        if i == 0:\n",
    "            R_old = 0.\n",
    "            R_max = 0.\n",
    "        else:\n",
    "            R_old = R_new\n",
    "        t3 = time.time()\n",
    "        R_new, B1x, B1y, B2x, B2y, IMG = Reward(b1x+dx1[i], b2x+dx2[i], b1y+dy1[i], b2y+dy2[i])\n",
    "        t4 = time.time()\n",
    "        t_c += (t4 - t3)\n",
    "        if R_new > R_max: \n",
    "            i_max = i\n",
    "            R_max = R_new\n",
    "            out_vals(R_new, B1x, B1y, B2x, B2y, IMG)\n",
    "            print(i_max, \"Power: {}\".format(R_new))\n",
    "t2 = time.time()\n",
    "print(t_c, t2-t1)"
   ]
  },
  {
   "cell_type": "code",
   "execution_count": null,
   "metadata": {},
   "outputs": [],
   "source": [
    "57.700743436813354/61.45157051086426"
   ]
  },
  {
   "cell_type": "code",
   "execution_count": null,
   "metadata": {},
   "outputs": [],
   "source": []
  },
  {
   "cell_type": "code",
   "execution_count": null,
   "metadata": {},
   "outputs": [],
   "source": []
  },
  {
   "cell_type": "code",
   "execution_count": null,
   "metadata": {},
   "outputs": [],
   "source": []
  },
  {
   "cell_type": "code",
   "execution_count": null,
   "metadata": {},
   "outputs": [],
   "source": []
  },
  {
   "cell_type": "code",
   "execution_count": null,
   "metadata": {},
   "outputs": [],
   "source": []
  },
  {
   "cell_type": "code",
   "execution_count": null,
   "metadata": {},
   "outputs": [],
   "source": []
  },
  {
   "cell_type": "code",
   "execution_count": null,
   "metadata": {},
   "outputs": [],
   "source": []
  },
  {
   "cell_type": "code",
   "execution_count": null,
   "metadata": {},
   "outputs": [],
   "source": []
  },
  {
   "cell_type": "code",
   "execution_count": null,
   "metadata": {},
   "outputs": [],
   "source": [
    "# Steering mirror misalignments [rad]\n",
    "# ------------------------------------\n",
    "a = 1e-3\n",
    "b1x, b2x, b1y, b2y = (np.random.random()*a, np.random.random()*a, \\\n",
    "                      np.random.random()*a, np.random.random()*a)\n",
    "\n",
    "xDir = True\n",
    "yDir = True\n",
    "i = 0\n",
    "new_mode = 'HG_4_4'\n",
    "\n",
    "while True:\n",
    "    old_mode = new_mode\n",
    "    # Steering inputs\n",
    "    base.SM1.xbeta = b1x\n",
    "    base.SM1.ybeta = b1y\n",
    "    base.SM2.xbeta = b2x\n",
    "    base.SM2.ybeta = b2y\n",
    "    # Running simulation\n",
    "    out = base.run()\n",
    "    # Read mode\n",
    "    new_mode = read_mode(out)[0]\n",
    "    print(i, new_mode)\n",
    "    if new_mode == \"HG_0_0\":\n",
    "        print(\"Beam aligned.\")\n",
    "        break\n",
    "    elif i > 100:\n",
    "        break\n",
    "    # check direction\n",
    "    xDir, yDir = check_direction(old_mode, new_mode, xDir, yDir)\n",
    "    # decide steering i/p\n",
    "    b1x, b2x, b1y, b2y = steering_inp(new_mode, xDir, yDir, b1x, b2x, b1y, b2y)\n",
    "    i += 1"
   ]
  },
  {
   "cell_type": "code",
   "execution_count": null,
   "metadata": {
    "scrolled": true
   },
   "outputs": [],
   "source": [
    "# base.parse(\"\"\"\n",
    "# xaxis CCD x lin -15 15 127\n",
    "# x2axis CCD y lin -15 15 127\n",
    "# yaxis abs\n",
    "# \"\"\")\n",
    "\n",
    "a = 1e-4\n",
    "nn = 0.\n",
    "n2 = 0\n",
    "# b1x, b2x, b1y, b2y = (np.random.random()*a, np.random.random()*a, \\\n",
    "#                       np.random.random()*a, np.random.random()*a)\n",
    "b1x, b2x, b1y, b2y = (nn*a, n2*a, nn*a, n2*a)\n",
    "base.SM1.xbeta = b1x\n",
    "base.SM1.ybeta = b1y\n",
    "base.SM2.xbeta = b2x\n",
    "base.SM2.ybeta = b2y\n",
    "\n",
    "out = base.run()\n",
    "\n",
    "Img = np.array(out['CCD'])\n",
    "print(\"avg: {}%, max: {}%\\n(x1,y1,x2,y2): ({},{},{},{})\".format(Img.sum()/n_pixl**2/1.95749, \\\n",
    "                                                              Img.max()/71.90626, b1x, b1y, b2x, b2y))\n",
    "Img /= np.max(Img)\n",
    "Img = 1. - Img\n",
    "plt.imshow(Img[::-1], cmap=cm.binary)\n",
    "plt.colorbar()\n",
    "plt.show()"
   ]
  },
  {
   "cell_type": "code",
   "execution_count": null,
   "metadata": {},
   "outputs": [],
   "source": [
    "Range"
   ]
  },
  {
   "cell_type": "code",
   "execution_count": null,
   "metadata": {},
   "outputs": [],
   "source": []
  },
  {
   "cell_type": "code",
   "execution_count": null,
   "metadata": {},
   "outputs": [],
   "source": []
  },
  {
   "cell_type": "code",
   "execution_count": null,
   "metadata": {},
   "outputs": [],
   "source": [
    "step = 1e-4\n",
    "a = 2e-3\n",
    "lr = 1e-6\n",
    "tol = 1e-4\n",
    "# b1x, b2x, b1y, b2y = (np.random.random()*a, np.random.random()*a, \\\n",
    "#                       np.random.random()*a, np.random.random()*a)\n",
    "b1x, b2x, b1y, b2y = (np.random.random()*a, 0., 0., 0.)\n",
    "# # In each param\n",
    "# for param in [b1x, b2x, b1y, b2y]:\n",
    "updated_step_x1 = step\n",
    "for i in range(100):\n",
    "    if i==0:\n",
    "        R1 = Reward(b1x, b2x, b1y, b2y)\n",
    "    else:\n",
    "        R1 = R2\n",
    "    R2 = Reward(b1x+updated_step_x1, b2x, b1y, b2y)\n",
    "    if abs(R2 - R1) / R1 < tol:\n",
    "        print(\"Breaking: \", abs(R2 - R1) / R1)\n",
    "        break\n",
    "    slope_x1 = (R2 - R1) / updated_step_x1\n",
    "#     if abs(slope_x1) > 5.:\n",
    "#         slope_x1 *= 5./abs(slope_x1)\n",
    "#     elif abs(slope_x1) < 1e0:\n",
    "#         slope_x1 *= 1e0/abs(slope_x1)\n",
    "    updated_step_x1 = slope_x1 * lr\n",
    "    b1x += updated_step_x1\n",
    "    print(\"slope: {}, R_old: {}, R_new: {}\".format(slope_x1, R1, R2))"
   ]
  },
  {
   "cell_type": "code",
   "execution_count": null,
   "metadata": {},
   "outputs": [],
   "source": []
  },
  {
   "cell_type": "code",
   "execution_count": null,
   "metadata": {},
   "outputs": [],
   "source": []
  },
  {
   "cell_type": "code",
   "execution_count": null,
   "metadata": {},
   "outputs": [],
   "source": []
  },
  {
   "cell_type": "code",
   "execution_count": null,
   "metadata": {},
   "outputs": [],
   "source": []
  },
  {
   "cell_type": "code",
   "execution_count": null,
   "metadata": {},
   "outputs": [],
   "source": [
    "import keras.optimizers as ko\n",
    "adm = ko.Adam(lr=0.001, beta_1=0.9, beta_2=0.999, epsilon=1e-8)"
   ]
  },
  {
   "cell_type": "code",
   "execution_count": null,
   "metadata": {},
   "outputs": [],
   "source": [
    "def  cal_cost(theta,X,y):\n",
    "    '''\n",
    "    \n",
    "    Calculates the cost for given X and Y. The following shows and example of a single dimensional X\n",
    "    theta = Vector of thetas \n",
    "    X     = Row of X's np.zeros((2,j))\n",
    "    y     = Actual y's np.zeros((2,1))\n",
    "    \n",
    "    where:\n",
    "        j is the no of features\n",
    "    '''\n",
    "    \n",
    "    m = len(y)\n",
    "    \n",
    "    predictions = X.dot(theta)\n",
    "    cost = (1/2*m) * np.sum(np.square(predictions-y))\n",
    "    return cost\n",
    "\n",
    "def stocashtic_gradient_descent(X,y,theta,learning_rate=0.01,iterations=10):\n",
    "    '''\n",
    "    X    = Matrix of X with added bias units\n",
    "    y    = Vector of Y\n",
    "    theta=Vector of thetas np.random.randn(j,1)\n",
    "    learning_rate \n",
    "    iterations = no of iterations\n",
    "    \n",
    "    Returns the final theta vector and array of cost history over no of iterations\n",
    "    '''\n",
    "    m = len(y)\n",
    "    cost_history = np.zeros(iterations)\n",
    "    \n",
    "    \n",
    "    for it in range(iterations):\n",
    "        cost =0.0\n",
    "        for i in range(m):\n",
    "            rand_ind = np.random.randint(0,m)\n",
    "            X_i = X[rand_ind,:].reshape(1,X.shape[1])\n",
    "            y_i = y[rand_ind].reshape(1,1)\n",
    "            prediction = np.dot(X_i,theta)\n",
    "\n",
    "            theta = theta -(1/m)*learning_rate*( X_i.T.dot((prediction - y_i)))\n",
    "            cost += cal_cost(theta,X_i,y_i)\n",
    "        cost_history[it]  = cost\n",
    "        \n",
    "    return theta, cost_history"
   ]
  },
  {
   "cell_type": "code",
   "execution_count": null,
   "metadata": {},
   "outputs": [],
   "source": [
    "lr =0.5\n",
    "n_iter = 50\n",
    "\n",
    "theta = np.random.randn(2,1)\n",
    "\n",
    "X_b = np.c_[np.ones((len(X),1)),X]\n",
    "theta,cost_history = stocashtic_gradient_descent(X_b,y,theta,lr,n_iter)\n",
    "\n",
    "\n",
    "print('Theta0:          {:0.3f},\\nTheta1:          {:0.3f}'.format(theta[0][0],theta[1][0]))\n",
    "print('Final cost/MSE:  {:0.3f}'.format(cost_history[-1]))\n",
    "\n",
    "Theta0:          3.619,\n",
    "Theta1:          3.101\n",
    "Final cost/MSE:  40.137"
   ]
  },
  {
   "cell_type": "code",
   "execution_count": null,
   "metadata": {},
   "outputs": [],
   "source": [
    "fig,ax = plt.subplots(figsize=(10,8))\n",
    "\n",
    "ax.set_ylabel('{J(Theta)}',rotation=0)\n",
    "ax.set_xlabel('{Iterations}')\n",
    "theta = np.random.randn(2,1)\n",
    "\n",
    "_=ax.plot(range(n_iter),cost_history,'b.')"
   ]
  },
  {
   "cell_type": "code",
   "execution_count": null,
   "metadata": {},
   "outputs": [],
   "source": []
  },
  {
   "cell_type": "code",
   "execution_count": null,
   "metadata": {},
   "outputs": [],
   "source": []
  },
  {
   "cell_type": "code",
   "execution_count": null,
   "metadata": {},
   "outputs": [],
   "source": []
  },
  {
   "cell_type": "code",
   "execution_count": null,
   "metadata": {},
   "outputs": [],
   "source": []
  },
  {
   "cell_type": "markdown",
   "metadata": {},
   "source": [
    "## PCA"
   ]
  },
  {
   "cell_type": "code",
   "execution_count": null,
   "metadata": {},
   "outputs": [],
   "source": [
    "from sklearn.decomposition import PCA\n",
    "X = np.array([[-1, -1], [-2, -1], [-3, -2], [1, 1], [2, 1], [3, 2]])\n",
    "pca = PCA(n_components=2)\n",
    "pca.fit(X)"
   ]
  },
  {
   "cell_type": "code",
   "execution_count": null,
   "metadata": {},
   "outputs": [],
   "source": [
    "pca.components_[0]"
   ]
  },
  {
   "cell_type": "code",
   "execution_count": null,
   "metadata": {},
   "outputs": [],
   "source": [
    "plt.scatter(X[:,0], X[:,1])\n",
    "plt.plot(pca.components_[:,0], pca.components_[:,1])\n",
    "plt.show()"
   ]
  }
 ],
 "metadata": {
  "kernelspec": {
   "display_name": "Python 3",
   "language": "python",
   "name": "python3"
  },
  "language_info": {
   "codemirror_mode": {
    "name": "ipython",
    "version": 3
   },
   "file_extension": ".py",
   "mimetype": "text/x-python",
   "name": "python",
   "nbconvert_exporter": "python",
   "pygments_lexer": "ipython3",
   "version": "3.6.8"
  }
 },
 "nbformat": 4,
 "nbformat_minor": 2
}
