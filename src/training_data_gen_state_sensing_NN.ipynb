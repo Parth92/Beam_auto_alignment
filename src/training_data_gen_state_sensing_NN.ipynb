{
 "cells": [
  {
   "cell_type": "markdown",
   "metadata": {
    "slideshow": {
     "slide_type": "subslide"
    },
    "tags": []
   },
   "source": [
    "# Training data gen for alignment state sensing of a given cavity\n",
    "* Randomly sample points in the alignment space (in units of beam waist)\n",
    "* take a step in each direction - read the image - if the image crosses a certain thresh, add gaussian noise with peak power at 0.01% (review) of the perfect alignment peak, else put blank image - save the image-stack\n",
    "* standard steps are [dx1,dy1,dx2,dy2]: [[0, 0, 0, 0], [-1, 0, -1, 0], [-1, 0, 1, 0], [-1, 0, 0, 1], [-1, 0, 0, -1], [1, 0, -1, 0], [1, 0, 1, 0], [1, 0, 0, 1], [1, 0, 0, -1], [0, 1, -1, 0], [0, 1, 1, 0], [0, 1, 0, 1], [0, 1, 0, -1], [0, -1, -1, 0], [0, -1, 1, 0], [0, -1, 0, 1], [0, -1, 0, -1]]\n",
    "* Create a hdf file with the following data\n",
    "    - (image, modes, resp powers, misalignment angles, beam params)"
   ]
  },
  {
   "cell_type": "markdown",
   "metadata": {
    "tags": []
   },
   "source": [
    "## Steps\n",
    "* See the max power in transmitted beam as a function of lateral movement / tilt of the beam. Decide the unit step size for each direction accordingly.\n",
    "* Generate all the data. If slow, build batches of data, to be integrated later.\n",
    "\n",
    "## Things to worry about\n",
    "* image centering\n",
    "* power in transmitted beam / image. How to normalize?\n",
    "\n",
    "## Things that can be added\n",
    "* map to Gaussian beam param at nM1a instead of alignments"
   ]
  },
  {
   "cell_type": "code",
   "execution_count": null,
   "metadata": {
    "tags": []
   },
   "outputs": [],
   "source": [
    "import pykat\n",
    "import numpy as np\n",
    "import h5py as hp\n",
    "from scipy.signal import find_peaks\n",
    "import matplotlib.pyplot as plt\n",
    "from skimage.filters import gaussian\n",
    "from time import time\n",
    "import os\n",
    "\n",
    "# Telling the notebook to make plots inline.\n",
    "%matplotlib inline  \n",
    "\n",
    "plt.rc('text', usetex=True)\n",
    "plt.rc('font', family='serif', size=12)"
   ]
  },
  {
   "cell_type": "code",
   "execution_count": null,
   "metadata": {
    "tags": []
   },
   "outputs": [],
   "source": [
    "def scan_cavity(kat, phimin=-90, phimax=90, N=2000, show_scan=False, return_max=False, **kwargs):\n",
    "    \"\"\"\n",
    "    Scans the cavity to give the location of max power.\n",
    "    \"\"\"\n",
    "    # run a copy\n",
    "    kat2 = kat.deepcopy()\n",
    "    kat2.parse(\"\"\"\n",
    "        # photo-diode\n",
    "        pd P nOut\n",
    "        # scanning the cavity\n",
    "        xaxis M2 phi lin {} {} {}\n",
    "        # plotting the amplitude of the detector measurements\n",
    "        yaxis abs\n",
    "    \"\"\".format(phimin, phimax, N))\n",
    "    out = kat2.run()\n",
    "    # find the highest power tuning of cavity\n",
    "    imax = np.argmax(out['P'].ravel())\n",
    "    # peaks\n",
    "    peaks, _ = find_peaks(out['P'].ravel())\n",
    "    if show_scan:\n",
    "        plt.plot(out.x, out['P'])\n",
    "        plt.plot(out.x[peaks], out['P'][peaks], 'r*')\n",
    "        plt.xlabel('Position of mirror M2 [deg]')\n",
    "        plt.ylabel('Power [W]',)\n",
    "        plt.title('Transmitted power vs tuning of M2')\n",
    "        plt.show()\n",
    "\n",
    "    if return_max:\n",
    "        return out.x[imax], out['P'].ravel()[imax]\n",
    "    else:\n",
    "        return out.x[peaks], out['P'].ravel()[peaks]\n",
    "\n",
    "def get_CCD_image(kat, phi, Sigma=1, rng=15, n_pxls=128, pixl_thresh=5e-3, show_ccd_image=False, **kwargs):\n",
    "    # tune the cavity to catch highest power\n",
    "    kat2 = kat.deepcopy()\n",
    "    kat2.parse(\"\"\"\n",
    "    # Beam camera\n",
    "    beam CCD nOut\n",
    "    \"\"\")\n",
    "    kat2.M2.phi = phi\n",
    "    # read image\n",
    "    # print(kat.SM1.xbeta.value, kat.SM1.ybeta.value, kat.SM2.xbeta.value, kat.SM2.ybeta.value)\n",
    "    kat2.parse(\"\"\"\n",
    "    xaxis CCD x lin -{0} {0} {1}\n",
    "    x2axis CCD y lin -{0} {0} {1}\n",
    "    yaxis abs\n",
    "    \"\"\".format(rng, n_pxls-1))\n",
    "\n",
    "    out = kat2.run()\n",
    "    ret_img = out['CCD'] + pixl_thresh*np.abs(np.random.normal(size=out['CCD'].shape))\n",
    "    # ret_img = gaussian(ret_img, sigma=Sigma)\n",
    "\n",
    "    if show_ccd_image:\n",
    "        plt.figure()\n",
    "        # float16 dtype fails with imshow\n",
    "        plt.imshow(ret_img.astype(np.float32))\n",
    "        plt.colorbar()\n",
    "        plt.show()\n",
    "\n",
    "    return ret_img.astype(np.float16)\n",
    "\n",
    "def get_vicinity_imstack(kat, i, beam_samples, steps, n_pxls=128, pixl_thresh=5e-3, show_imstack=False, **kwargs):\n",
    "    # image stack\n",
    "    img_stack = np.zeros((17,n_pxls,n_pxl), dtype=np.float16)\n",
    "    # set i/p alignment\n",
    "    kat = base.deepcopy()\n",
    "    if show_imstack:\n",
    "        fig = plt.figure(figsize=(25,5))\n",
    "    # fill image stack\n",
    "    for ii, step in enumerate(steps):\n",
    "        print('{} Step: {}'.format(ii, step))\n",
    "        # set i/p alignment\n",
    "        kat.SM1.xbeta = beam_samples['SM1']['x'][i] + step[0]\n",
    "        kat.SM1.ybeta = beam_samples['SM1']['y'][i] + step[1]\n",
    "        kat.SM2.xbeta = beam_samples['SM2']['x'][i] + step[2]\n",
    "        kat.SM2.ybeta = beam_samples['SM2']['y'][i] + step[3]\n",
    "        # catch phi for resonance\n",
    "        phi, _ = scan_cavity(kat, return_max=True, **kwargs)\n",
    "        # get corresponding image\n",
    "        img_stack[ii] = get_CCD_image(kat, phi, n_pxls=n_pxls, **kwargs)\n",
    "        # if show image\n",
    "        if show_imstack:\n",
    "            fig.add_subplot(4,5,ii+1)\n",
    "            # float16 dtype fails with imshow\n",
    "            plt.imshow(img_stack[ii].astype(np.float32))\n",
    "    if show_imstack: plt.show()\n",
    "    return img_stack\n",
    "\n",
    "def get_scan_imstack(kat, i, beam_samples, n_ims=5, n_pxls=128, pixl_thresh=5e-3, show_imstack=False, **kwargs):\n",
    "    \"\"\"\n",
    "    Returns a stack of images corresponding to the maxima in the scan of cavity.\n",
    "    Each image has to have maximum pixel above the set threshold value.\n",
    "    \"\"\"\n",
    "    # set i/p alignment\n",
    "    kat = base.deepcopy()\n",
    "    # set i/p alignment\n",
    "    kat.SM1.xbeta = beam_samples['SM1']['x'][i]\n",
    "    kat.SM1.ybeta = beam_samples['SM1']['y'][i]\n",
    "    kat.SM2.xbeta = beam_samples['SM2']['x'][i]\n",
    "    kat.SM2.ybeta = beam_samples['SM2']['y'][i]\n",
    "    # catch phi's for all peaks in the scan\n",
    "    phis, _ = scan_cavity(kat, return_max=False, **kwargs)\n",
    "    # image stack\n",
    "    nn = max(n_ims, len(phis))\n",
    "    imstack = np.zeros((nn,n_pxls,n_pxls), dtype=np.float16)\n",
    "    phi_maxs = np.zeros(nn, dtype=np.float16)\n",
    "    # get corresponding images\n",
    "    for i in range(len(phis)):\n",
    "        imm = get_CCD_image(kat, phis[i], n_pxls=n_pxls, **kwargs)\n",
    "        # consider only if pixl power crosses threshold\n",
    "        if imm.max() > 30*pixl_thresh:\n",
    "            imstack[i] = imm\n",
    "            phi_maxs[i] = phis[i]\n",
    "    powrs = np.max(np.max(imstack, axis=-1), axis=-1)\n",
    "    # sort in decreasing max power\n",
    "    isort = np.argsort(powrs)[::-1]\n",
    "    imstack = imstack[isort]\n",
    "    phi_maxs = phi_maxs[isort]\n",
    "    # keep only those above thresh\n",
    "    imstack = imstack[:n_ims]\n",
    "    phi_maxs = phi_maxs[:n_ims]\n",
    "    # phis kept wrt max powr peak and ones corr to empty images made 0\n",
    "    phi_maxs -= phi_maxs[0]\n",
    "    phi_maxs[len(phis):] *= 0\n",
    "    # if show image\n",
    "    if show_imstack:\n",
    "        plt.figure(figsize=(25,5))\n",
    "        for ii in range(n_ims):\n",
    "            plt.subplot(1,n_ims,ii+1)\n",
    "            # float16 dtype fails with imshow\n",
    "            plt.imshow(imstack[ii].astype(np.float32))\n",
    "        plt.show()\n",
    "    # phi_maxs[0] is always going to be 0. so omit it.\n",
    "    return imstack, phi_maxs[1:]"
   ]
  },
  {
   "cell_type": "markdown",
   "metadata": {
    "tags": []
   },
   "source": [
    "## Base Model"
   ]
  },
  {
   "cell_type": "code",
   "execution_count": null,
   "metadata": {
    "tags": []
   },
   "outputs": [],
   "source": [
    "base = pykat.finesse.kat()\n",
    "base.verbose = False\n",
    "base.parse(\"\"\"\n",
    "\n",
    "# Input laser\n",
    "# -----------------------------\n",
    "l laser 1e-2 0 n0            # Laser (Power = 10 mW, wavelength offset = 0)\n",
    "\n",
    "# Gaussian Beam\n",
    "gauss GB laser n0 64.5e-6 0   # define beam waist\n",
    "\n",
    "s s00 0.21801 n0 nL1a         # Space (Length = 0.218 m)\n",
    "\n",
    "# Lens of f=150mm\n",
    "lens Lns 0.150 nL1a nL1b\n",
    "\n",
    "s s0 0.032 nL1b nSM1a        # Space (Length = 0.032 m)\n",
    "\n",
    "# Steering mirrors\n",
    "# -----------------------------\n",
    "bs SM1 1 0 0 45 nSM1a nSM1b nSM1c nSM1d  # Beam splitter (R=1, T=0, phi(tuning)=0, alpha=45)\n",
    "\n",
    "s s1 0.35 nSM1b nSM2a\n",
    "\n",
    "bs SM2 1 0 0 45 nSM2a nSM2b nSM2c nSM2d\n",
    "\n",
    "s s2 0.0884 nSM2b nM1a\n",
    "\n",
    "# Cavity\n",
    "# -----------------------------\n",
    "# cavity mirror1 (R=0.95, T=0.05, phi=0)\n",
    "m M1 0.95 0.05 0 nM1a nM1b\n",
    "\n",
    "# cavity length 122.7mm for waist 140um\n",
    "s lCav 0.1227 nM1b nM2a\n",
    "\n",
    "# cavity mirror2 (R=0.99, T=0.01, phi=0)\n",
    "m M2 0.99 0.01 0 nM2a nM2b\n",
    "\n",
    "# Setting RoC of M2\n",
    "attr M2 Rc 0.150\n",
    "\n",
    "# Defning the cavity for spatial mode basis computation\n",
    "cav cav1 M1 nM1b M2 nM2a\n",
    "\n",
    "# Output\n",
    "# -----------------------------\n",
    "s sOut 0.1 nM2b nOut\n",
    "\n",
    "# Photo diode\n",
    "# pd P nOut\n",
    "\n",
    "# Amplitude detector\n",
    "# ad AD11 1 1 1064 nOut\n",
    "\n",
    "# Beam camera\n",
    "# beam CCD nOut\n",
    "\n",
    "# max order of modes\n",
    "maxtem 10\n",
    "\n",
    "trace 8\n",
    "\"\"\")"
   ]
  },
  {
   "cell_type": "markdown",
   "metadata": {},
   "source": [
    "## Initialization"
   ]
  },
  {
   "cell_type": "code",
   "execution_count": null,
   "metadata": {
    "tags": []
   },
   "outputs": [],
   "source": [
    "#seed\n",
    "np.random.seed(314)\n",
    "\n",
    "# waist size in m\n",
    "waist = 140e-6\n",
    "# range of movement of the waist center at the waist location in the units of waist size\n",
    "a = 3.\n",
    "# cumulative distance of waist from SM1 in m\n",
    "d1 = 0.35+0.0884\n",
    "# cumulative distance of waist from SM2 in m\n",
    "d2 = 0.0884\n",
    "dist_to_w = {'SM1': d1, 'SM2': d2}\n",
    "# unit step in each side is (max deviation of beam spot at CM1 from centre)/1000\n",
    "dstep = (a*waist)/d1/3.\n",
    "samples = 20000\n",
    "# no of images in cavity scan image stack\n",
    "N_IMS=7\n",
    "# other vars\n",
    "N_PXLS=128\n",
    "NOISE_AMP=1e-3\n",
    "SIGMA=2\n",
    "SHOW_IMSTACK=True\n",
    "SHOW_SCAN=True\n",
    "SHOW_CCD_IMAGE=True\n",
    "\n",
    "DATA_FOLDER = '/home/shreejit/WORK/Beam_auto_alignment/Data/CavityScanData'\n",
    "\n",
    "# steps = [[0,0,0,0]]\n",
    "# for (dx, dy) in zip((-dstep,dstep,0,0), (0,0,dstep,-dstep)):\n",
    "#     for dx2, dy2 in zip((-dstep,dstep,0,0), (0,0,dstep,-dstep)):\n",
    "#         steps.append([dx,dy,dx2,dy2])\n",
    "\n",
    "beam_status = {'SM1': {'x': np.random.random(samples), 'y': np.random.random(samples)}, 'SM2': {'x': np.random.random(samples), 'y': np.random.random(samples)}}\n",
    "\n",
    "# random alignments\n",
    "for sm in beam_status.keys():\n",
    "    for direction in beam_status[sm].keys():\n",
    "        # give angle in deg\n",
    "        beam_status[sm][direction] = 2. * a * beam_status[sm][direction] - a\n",
    "        beam_status[sm][direction] *= waist / dist_to_w[sm]"
   ]
  },
  {
   "cell_type": "markdown",
   "metadata": {},
   "source": [
    "## Trial misalignment"
   ]
  },
  {
   "cell_type": "code",
   "execution_count": null,
   "metadata": {
    "tags": []
   },
   "outputs": [],
   "source": [
    "i = 0\n",
    "kat = base.deepcopy()\n",
    "\n",
    "# set i/p alignment\n",
    "kat.SM1.xbeta = beam_status['SM1']['x'][i]\n",
    "kat.SM1.ybeta = beam_status['SM1']['y'][i]\n",
    "kat.SM2.xbeta = beam_status['SM2']['x'][i]\n",
    "kat.SM2.ybeta = beam_status['SM2']['y'][i]\n",
    "\n",
    "# catch phi for resonance\n",
    "phi, _ = scan_cavity(kat, phimin=-90, phimax=90, N=2000, show_scan=True, return_max=True)\n",
    "\n",
    "# get corresponding image\n",
    "img = get_CCD_image(kat, phi, Sigma=SIGMA, rng=15, n_pxls=128, show_ccd_image=True)"
   ]
  },
  {
   "cell_type": "markdown",
   "metadata": {},
   "source": [
    "## Trial image stack"
   ]
  },
  {
   "cell_type": "code",
   "execution_count": null,
   "metadata": {
    "tags": []
   },
   "outputs": [],
   "source": [
    "i = 23\n",
    "imstack, phim = get_scan_imstack(kat, i, beam_status, Sigma=SIGMA, n_ims=N_IMS, n_pxls=N_PXLS, pixl_thresh=NOISE_AMP, show_imstack=SHOW_IMSTACK, show_scan=SHOW_SCAN, show_ccd_image=SHOW_CCD_IMAGE)"
   ]
  },
  {
   "cell_type": "markdown",
   "metadata": {},
   "source": [
    "# Full Loop"
   ]
  },
  {
   "cell_type": "code",
   "execution_count": null,
   "metadata": {
    "tags": []
   },
   "outputs": [],
   "source": [
    "imstack = np.zeros((samples,N_IMS,N_PXLS,N_PXLS), dtype=np.float16)\n",
    "phim = np.zeros((samples,N_IMS-1), dtype=np.float16)\n",
    "# randomly sample the range of SM1 and SM2 in (x,y) space\n",
    "t0 = time()\n",
    "for i in range(20):\n",
    "    print(i, time()-t0)\n",
    "    # collect stack of images and relative spacings for peaks in the cavity scan (arranged in decreasing order of peak pixl power)\n",
    "    imstack[i], phim[i] = get_scan_imstack(kat, i, beam_status, Sigma=SIGMA, n_ims=N_IMS, n_pxls=N_PXLS, pixl_thresh=NOISE_AMP)"
   ]
  },
  {
   "cell_type": "code",
   "execution_count": null,
   "metadata": {},
   "outputs": [],
   "source": [
    "# feed the data to pre-initialized hdf file datasets: (SM1x, SM1y, SM2x, SM2y, IMAGE_stack, ModePower_stack, BeamParams)\n",
    "if not os.path.isdir(DATA_FOLDER):\n",
    "    os.mkdir(DATA_FOLDER)"
   ]
  },
  {
   "cell_type": "code",
   "execution_count": null,
   "metadata": {
    "tags": []
   },
   "outputs": [],
   "source": [
    "# save the data in a hdf file\n",
    "data = hp.File(DATA_FOLDER+'/training_data_cavity_scan.hdf', 'w')\n",
    "data.create_dataset('SM1x', data=beam_status['SM1']['x'])\n",
    "data.create_dataset('SM1y', data=beam_status['SM1']['y'])\n",
    "data.create_dataset('SM2x', data=beam_status['SM2']['x'])\n",
    "data.create_dataset('SM2y', data=beam_status['SM2']['y'])\n",
    "# images of transmitted beam for peaks in the cavity scan\n",
    "# (arranged by decreasing order of max pixel power)\n",
    "data.create_dataset('image_stack', data=imstack)\n",
    "# relative positions of other peaks in the scan wrt the highest one (deg)\n",
    "data.create_dataset('phi_stack', data=phim)\n",
    "data.close()"
   ]
  }
 ],
 "metadata": {
  "kernelspec": {
   "display_name": "Python 3",
   "language": "python",
   "name": "python3"
  },
  "language_info": {
   "codemirror_mode": {
    "name": "ipython",
    "version": 3
   },
   "file_extension": ".py",
   "mimetype": "text/x-python",
   "name": "python",
   "nbconvert_exporter": "python",
   "pygments_lexer": "ipython3",
   "version": "3.9.6"
  },
  "toc-autonumbering": true,
  "toc-showmarkdowntxt": false,
  "toc-showtags": false
 },
 "nbformat": 4,
 "nbformat_minor": 4
}
