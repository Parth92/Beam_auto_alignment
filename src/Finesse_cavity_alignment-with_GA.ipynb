{
 "cells": [
  {
   "cell_type": "markdown",
   "metadata": {},
   "source": [
    "# Importing packages and load CNN"
   ]
  },
  {
   "cell_type": "code",
   "execution_count": 1,
   "metadata": {},
   "outputs": [
    {
     "name": "stdout",
     "output_type": "stream",
     "text": [
      "                                              ..-\n",
      "    PyKat 1.1.331         _                  '(\n",
      "                          \\`.|\\.__...-\"\"\"\"-_.\" )\n",
      "       ..+-----.._        /  ' `            .-'\n",
      "   . '            `:      7/* _/._\\    \\   (\n",
      "  (        '::;;+;;:      `-\"' =\" /,`\"\" `) /\n",
      "  L.        \\`:::a:f            c_/     n_'\n",
      "  ..`--...___`.  .    ,\n",
      "   `^-....____:   +.      www.gwoptics.org/pykat\n",
      "\n"
     ]
    }
   ],
   "source": [
    "import pykat\n",
    "import numpy as np\n",
    "import matplotlib.pyplot as plt\n",
    "from matplotlib import cm\n",
    "# import keras\n",
    "# from keras import backend as k\n",
    "# from sklearn.preprocessing import LabelEncoder, OneHotEncoder\n",
    "# import tensorflow as tf\n",
    "# import pickle\n",
    "from copy import deepcopy\n",
    "from tqdm import tqdm\n",
    "import time\n",
    "import os\n",
    "\n",
    "# from pykat.optics.gaussian_beams import HG_mode\n",
    "# from pykat.optics.gaussian_beams import BeamParam\n",
    "import pykat.optics.gaussian_beams as gb\n",
    "from math import factorial\n",
    "\n",
    "# Telling the notebook to make plots inline.\n",
    "%matplotlib inline\n",
    "plt.rc('text', usetex=True)\n",
    "plt.rc('font', family='serif', size=12)"
   ]
  },
  {
   "cell_type": "markdown",
   "metadata": {},
   "source": [
    "\n",
    "# Initialization"
   ]
  },
  {
   "cell_type": "code",
   "execution_count": 2,
   "metadata": {},
   "outputs": [],
   "source": [
    "n_pixl = 128\n",
    "tilt_step = 1e-4\n",
    "SaveModelFolder = '/home/user1/Dropbox/Academic/WORK/Beam_auto_alignment/Data/TrainedModels/'\n",
    "Model_Name = 'Trained_Model_2019-07-03_17-15'\n",
    "\n",
    "# # Read the pre-trained CNN model\n",
    "# cnn = keras.models.load_model(SaveModelFolder + Model_Name + '.h5')\n",
    "# # load the encoder\n",
    "# loaded_Encoder = pickle.load(open(SaveModelFolder + 'Encoder_of_' + Model_Name + '.npy', 'rb'))\n",
    "\n",
    "np.random.seed(198)\n",
    "# waist size in m\n",
    "waist = 140e-6\n",
    "# range of movement of the waist center at the waist location in the units of waist size\n",
    "Range = 3.5\n",
    "# cumulative distance of waist from SM1 in m\n",
    "d1 = 0.35+0.0884\n",
    "# cumulative distance of waist from SM2 in m\n",
    "d2 = 0.0884\n",
    "dist_to_w = np.array([d1, d1, d2, d2])\n",
    "# Scale for initial random misalignment in the units of waist size\n",
    "a = 3.\n",
    "pop_per_gen = 50\n",
    "num_generations = 25\n",
    "num_params = len(dist_to_w)\n",
    "num_parents_mating = pop_per_gen // 10 \t# 10% of new population is parents\n",
    "num_offsprings_per_pair = 2 * (pop_per_gen - num_parents_mating) // num_parents_mating + 1\n",
    "# after each iteration, range shrinks by\n",
    "shrink_factor = 2. / pop_per_gen ** 0.25  # make sure it is < 1.\n",
    "# Defining the population size.\n",
    "pop_size = (pop_per_gen,num_params) # The population will have sol_per_pop chromosome \\\n",
    "# where each chromosome has num_weights genes.\n",
    "fitness = np.empty(pop_per_gen)"
   ]
  },
  {
   "cell_type": "markdown",
   "metadata": {},
   "source": [
    "## Define Functions"
   ]
  },
  {
   "cell_type": "code",
   "execution_count": 3,
   "metadata": {},
   "outputs": [],
   "source": [
    "def sample_d(Rng, shape=pop_size):\n",
    "    \"\"\"\n",
    "    Takes i/p range in umits of beam waist at the waist location.\n",
    "    Outputs sets of deltas (in radians) to be fed to steering mirrors.\n",
    "    O/P shape : pop_size\n",
    "    \"\"\"\n",
    "    delta = np.random.uniform(low=-Rng, high=Rng, size=shape)\n",
    "    delta *= waist \n",
    "    delta /= dist_to_w\n",
    "    return delta\n",
    "\n",
    "def Reward(Beam_status):\n",
    "    # reward fn as total power\n",
    "    base.SM1.xbeta = Beam_status[0]\n",
    "    base.SM1.ybeta = Beam_status[1]\n",
    "    base.SM2.xbeta = Beam_status[2]\n",
    "    base.SM2.ybeta = Beam_status[3]\n",
    "    Img1 = beam_profile(base, x, y)\n",
    "#     out = base.run()\n",
    "#     Img1 = np.array(out['CCD'])\n",
    "    R_fn1 = Img1.sum()*100/n_pixl**2/Max_P\n",
    "    return R_fn1, Img1\n",
    "\n",
    "def calc_pop_fitness(Current_beam_status, New_pop_deltas, fitness, only_offsprings=False):\n",
    "    \"\"\"\n",
    "    Calculating the fitness value of each solution in the current population.\n",
    "    Also returns the current beam location (after adding the steps taken so far)\n",
    "    \"\"\"\n",
    "    if only_offsprings:\n",
    "        range_vals = range(num_parents_mating, pop_per_gen)\n",
    "    else:\n",
    "        range_vals = range(pop_per_gen)\n",
    "    for ii in range_vals:\n",
    "        # take the delta step\n",
    "        Current_beam_status += New_pop_deltas[ii]\n",
    "        # cumulatively subtracting each delta step from all deltas\n",
    "        New_pop_deltas -= New_pop_deltas[ii]\n",
    "        R_new, _ = Reward(Current_beam_status)\n",
    "        fitness[ii] = R_new\n",
    "    return Current_beam_status, New_pop_deltas, fitness\n",
    "\n",
    "def select_mating_pool(pop, fitness, num_parents_mating, show_the_best=False):\n",
    "    \"\"\"\n",
    "    Selecting the best candidates in the current generation as parents for \n",
    "    producing the offspring of the next generation.\n",
    "    \"\"\"\n",
    "    parents = np.empty((num_parents_mating, num_params))\n",
    "    isort = np.argsort(fitness)[::-1]\n",
    "    parents_fitness = fitness[isort][:num_parents_mating]\n",
    "    parents = pop[isort][:num_parents_mating,:]\n",
    "    if show_the_best:\n",
    "        print('Fittest Parent: {}'.format(parents_fitness[0]))\n",
    "        _, Img = Reward(parents[0])\n",
    "        plt.imshow(Img[::-1], cmap=cm.binary_r)\n",
    "        plt.colorbar()\n",
    "        plt.show()\n",
    "    return parents, parents_fitness\n",
    "\n",
    "def get_offsprings_Uniform(pairs, parents, offspring_size):\n",
    "    \"\"\"create offsprings using uniform crossover\"\"\"\n",
    "    offsprings = np.empty(offspring_size)\n",
    "    nn = 0\n",
    "    for i in range(len(pairs)):\n",
    "        for j in range(num_offsprings_per_pair):\n",
    "            if nn == offspring_size[0] : break\n",
    "            while True:\n",
    "                # To make sure not all True/False\n",
    "                i_select_genes = np.random.choice([True, False], num_params)\n",
    "                if (i_select_genes.sum() != num_params) & (i_select_genes.sum() != 0): break\n",
    "            offsprings[nn][i_select_genes] = parents[pairs[i][0]][i_select_genes]\n",
    "            offsprings[nn][np.logical_not(i_select_genes)] = \\\n",
    "            parents[pairs[i][1]][np.logical_not(i_select_genes)]\n",
    "            nn += 1\n",
    "    return offsprings\n",
    "\n",
    "def crossover(parents, offspring_size):\n",
    "    # get all possible pairs\n",
    "    pairs = []\n",
    "    for p1 in range(num_parents_mating):\n",
    "        for p2 in range(p1+1, num_parents_mating):\n",
    "            pairs.append([p1,p2])\n",
    "    pairs = np.array(pairs)\n",
    "    offsprings = get_offsprings_Uniform(pairs, parents, offspring_size)\n",
    "    return offsprings\n",
    "\n",
    "def mutation(Offspring_crossover, Rng):\n",
    "    # Mutation changes a single gene in each offspring randomly.\n",
    "    mutations = sample_d(Rng, shape=Offspring_crossover.shape)\n",
    "    # The random value to be added to the gene.\n",
    "    Offspring_crossover += mutations\n",
    "    return Offspring_crossover\n",
    "\n",
    "def ads(N, node):\n",
    "    '''\n",
    "    Returns Finesse code for amplitude detectors for all modes \n",
    "    up to, and including, order N.\n",
    "    '''\n",
    "    txt = 'ad HG{0}{1} {0} {1} 0 '\n",
    "    txt += '{}\\n'.format(node)\n",
    "    code = ''\n",
    "    for k in range(N+1):\n",
    "        for i in range(N-k+1):\n",
    "            code += txt.format(k,i)\n",
    "    return code\n",
    "\n",
    "def bps(node):\n",
    "    '''\n",
    "    Adding beam parameter detectors for qx and qy\n",
    "    '''\n",
    "    txt = 'bp qx x q {0}\\nbp qy y q {0}'.format(node)\n",
    "    return txt\n",
    "\n",
    "def q2w(q, lambd = 1.064e-6):\n",
    "    return np.sqrt(lambd*np.abs(q)**2/(np.pi*q.imag))\n",
    "    \n",
    "def q2Rc(q):\n",
    "    return np.abs(q**2)/q.real\n",
    "\n",
    "def q2gouy(q):\n",
    "    return np.arctan(q.real/q.imag)\n",
    "\n",
    "def herm(n,x):\n",
    "    # Returns Hn(x), i.e., data from hermitan polynomial of order n.\n",
    "    coef = np.zeros(n+1)\n",
    "    coef[-1] = 1\n",
    "    h = np.polynomial.hermite.hermval(x,coef)\n",
    "    return h\n",
    "\n",
    "def Un(n, x, q, lambd = 1.064e-6):\n",
    "    w = q2w(q)\n",
    "    Rc = q2Rc(q)\n",
    "    gouy = q2gouy(q)\n",
    "    \n",
    "    const = np.sqrt( np.sqrt(2)/(factorial(n)*np.sqrt(np.pi)*w*2**n))\n",
    "    G = np.exp(1j*(2.0*n+1.0)*gouy/2.0)\n",
    "    H = herm(n, (np.sqrt(2)/w) * x )\n",
    "    E = np.exp( (-1.0/w**2 - 1j*np.pi/(lambd*Rc))*x**2 )\n",
    "    return const*G*H*E\n",
    "\n",
    "def Unm(x,y,n,m,qx,qy):\n",
    "    return np.outer(Un(n,x,qx), Un(m,y,qy))\n",
    "\n",
    "def beam_profile(kat_object, x, y, verbose=False):\n",
    "    '''\n",
    "    Generated intensity data on a grid defined by x and y. The kat_object\n",
    "    must contain beam parameter detectors detecting qx and qy, and it needs\n",
    "    to have amplitude detectors for all spatial modes within the maxtem. \n",
    "    These can be added using ads() and bps() above. \n",
    "    '''\n",
    "    kat = kat_object.deepcopy()\n",
    "    N = kat.maxtem\n",
    "\n",
    "    out = kat.run()\n",
    "    \n",
    "    qx = out['qx']\n",
    "    qy = out['qy']\n",
    "    gouy_x = q2gouy(qx)\n",
    "\n",
    "    A = 0\n",
    "    for n in range(N+1):\n",
    "        for m in range(N-n+1):\n",
    "            a = out['HG{}{}'.format(n,m)]*np.exp(-1j*gouy_x*(n+m))            \n",
    "            A += a*Unm(x,y,n,m,qx,qy).transpose()\n",
    "    if verbose:\n",
    "        print('Finesse run: {:.3f} s'.format(t_run))\n",
    "    return np.abs(A)**2"
   ]
  },
  {
   "cell_type": "markdown",
   "metadata": {},
   "source": [
    "# Base Model"
   ]
  },
  {
   "cell_type": "code",
   "execution_count": 4,
   "metadata": {},
   "outputs": [],
   "source": [
    "#seed\n",
    "np.random.seed(197)\n",
    "\n",
    "base = pykat.finesse.kat()\n",
    "base.verbose = False\n",
    "base.parse(\"\"\"\n",
    "\n",
    "# Input laser\n",
    "# -----------------------------\n",
    "l laser 1e-2 0 n0            # Laser (Power = 10 mW, wavelength offset = 0)\n",
    "\n",
    "# Gaussian Beam\n",
    "gauss GB laser n0 129e-6 0   # define beam waist\n",
    "\n",
    "s s00 0.21801 n0 nL1a         # Space (Length = 0.218 m)\n",
    "\n",
    "# Lens of f=150mm\n",
    "lens Lns 0.150 nL1a nL1b\n",
    "\n",
    "s s0 0.032 nL1b nSM1a        # Space (Length = 0.032 m)\n",
    "\n",
    "# Steering mirrors\n",
    "# -----------------------------\n",
    "bs SM1 1 0 0 45 nSM1a nSM1b nSM1c nSM1d  # Beam splitter (R=1, T=0, phi(tuning)=0, alpha=45)\n",
    "\n",
    "s s1 0.35 nSM1b nSM2a\n",
    "\n",
    "bs SM2 1 0 0 45 nSM2a nSM2b nSM2c nSM2d\n",
    "\n",
    "s s2 0.0884 nSM2b nM1a\n",
    "\n",
    "# Cavity\n",
    "# -----------------------------\n",
    "# cavity mirror1 (R=0.95, T=0.05, phi=0)\n",
    "m M1 0.95 0.05 0 nM1a nM1b\n",
    "\n",
    "# cavity length 122.7mm for waist 140um\n",
    "s lCav 0.1227 nM1b nM2a\n",
    "\n",
    "# cavity mirror2 (R=0.99, T=0.01, phi=0)\n",
    "m M2 0.99 0.01 0 nM2a nM2b\n",
    "\n",
    "# Setting RoC of M2\n",
    "attr M2 Rc 0.150\n",
    "\n",
    "# Defning the cavity for spatial mode basis computation\n",
    "cav cav1 M1 nM1b M2 nM2a\n",
    "\n",
    "# Output\n",
    "# -----------------------------\n",
    "s sOut 0.1 nM2b nOut\n",
    "\n",
    "# Photo diode\n",
    "pd P nOut\n",
    "\n",
    "# Amplitude detector\n",
    "# ad AD11 1 1 1064 nOut\n",
    "\n",
    "# Beam camera\n",
    "beam CCD nOut\n",
    "\n",
    "# max order of modes\n",
    "maxtem 4\n",
    "\"\"\")"
   ]
  },
  {
   "cell_type": "code",
   "execution_count": 5,
   "metadata": {},
   "outputs": [],
   "source": [
    "node = 'nOut'\n",
    "# Parsing amplitude detectors\n",
    "base.parse(ads(base.maxtem, node))\n",
    "# Parsing beam parameter detectors\n",
    "base.parse(bps(node))\n",
    "# Simulation instructions\n",
    "base.parse('''\n",
    "noxaxis\n",
    "yaxis abs:deg\n",
    "''')\n",
    "xlims = np.array([-1.0, 1.0])*2e-3\n",
    "ylims = np.array([-1.0, 1.0])*2e-3\n",
    "# Creating x and y arrays\n",
    "x = np.linspace(xlims[0], xlims[1], n_pixl)\n",
    "y = np.linspace(ylims[0], ylims[1], n_pixl)\n",
    "# Get the max power to compare results with\n",
    "Img = beam_profile(base, x, y)\n",
    "Max_P = Img.sum()/n_pixl**2"
   ]
  },
  {
   "cell_type": "markdown",
   "metadata": {},
   "source": [
    "## Initial misalignment"
   ]
  },
  {
   "cell_type": "code",
   "execution_count": 6,
   "metadata": {},
   "outputs": [
    {
     "name": "stdout",
     "output_type": "stream",
     "text": [
      "[0.00070493 0.00054551 0.00452556 0.00255372]\n"
     ]
    }
   ],
   "source": [
    "# give angle in radian\n",
    "current_beam_status = np.random.uniform(low=-a, high=a, size=(num_params,))\n",
    "current_beam_status *= waist \n",
    "current_beam_status /= dist_to_w\n",
    "print(current_beam_status)"
   ]
  },
  {
   "cell_type": "code",
   "execution_count": 7,
   "metadata": {
    "scrolled": true
   },
   "outputs": [
    {
     "name": "stdout",
     "output_type": "stream",
     "text": [
      "\n",
      "\n",
      "Range: 3.5 x waist\n",
      "\n",
      "\n",
      " Gen: 0 Range: 2.6324221651604756 x waist\n",
      "Fittest Parent: 2.334233233150555\n"
     ]
    },
    {
     "data": {
      "image/png": "[encoded data removed]",
      "text/plain": [
       "<Figure size 432x288 with 2 Axes>"
      ]
     },
     "metadata": {
      "needs_background": "light"
     },
     "output_type": "display_data"
    },
    {
     "name": "stdout",
     "output_type": "stream",
     "text": [
      "\n",
      "\n",
      " Gen: 1 Range: 1.9798989873223332 x waist\n",
      "Fittest Parent: 14.796199219630713\n"
     ]
    },
    {
     "data": {
      "image/png": "[encoded data removed]",
      "text/plain": [
       "<Figure size 432x288 with 2 Axes>"
      ]
     },
     "metadata": {
      "needs_background": "light"
     },
     "output_type": "display_data"
    },
    {
     "name": "stdout",
     "output_type": "stream",
     "text": [
      "\n",
      "\n",
      " Gen: 2 Range: 1.4891228511445969 x waist\n",
      "Fittest Parent: 16.9830806447054\n"
     ]
    },
    {
     "data": {
      "image/png": "[encoded data removed]",
      "text/plain": [
       "<Figure size 432x288 with 2 Axes>"
      ]
     },
     "metadata": {
      "needs_background": "light"
     },
     "output_type": "display_data"
    },
    {
     "name": "stdout",
     "output_type": "stream",
     "text": [
      "\n",
      "\n",
      " Gen: 3 Range: 1.12 x waist\n",
      "Fittest Parent: 86.81336662233906\n"
     ]
    },
    {
     "data": {
      "image/png": "[encoded data removed]",
      "text/plain": [
       "<Figure size 432x288 with 2 Axes>"
      ]
     },
     "metadata": {
      "needs_background": "light"
     },
     "output_type": "display_data"
    },
    {
     "name": "stdout",
     "output_type": "stream",
     "text": [
      "\n",
      "\n",
      " Gen: 4 Range: 0.8423750928513523 x waist\n",
      "Fittest Parent: 86.81336662233906\n"
     ]
    },
    {
     "data": {
      "image/png": "[encoded data removed]",
      "text/plain": [
       "<Figure size 432x288 with 2 Axes>"
      ]
     },
     "metadata": {
      "needs_background": "light"
     },
     "output_type": "display_data"
    },
    {
     "name": "stdout",
     "output_type": "stream",
     "text": [
      "\n",
      "\n",
      " Gen: 5 Range: 0.6335676759431467 x waist\n",
      "Fittest Parent: 86.81336662233906\n"
     ]
    },
    {
     "data": {
      "image/png": "[encoded data removed]",
      "text/plain": [
       "<Figure size 432x288 with 2 Axes>"
      ]
     },
     "metadata": {
      "needs_background": "light"
     },
     "output_type": "display_data"
    },
    {
     "name": "stdout",
     "output_type": "stream",
     "text": [
      "\n",
      "\n",
      " Gen: 6 Range: 0.47651931236627104 x waist\n",
      "Fittest Parent: 87.61041775245111\n"
     ]
    },
    {
     "data": {
      "image/png": "[encoded data removed]",
      "text/plain": [
       "<Figure size 432x288 with 2 Axes>"
      ]
     },
     "metadata": {
      "needs_background": "light"
     },
     "output_type": "display_data"
    },
    {
     "name": "stdout",
     "output_type": "stream",
     "text": [
      "\n",
      "\n",
      " Gen: 7 Range: 0.35840000000000005 x waist\n",
      "Fittest Parent: 96.44273195524848\n"
     ]
    },
    {
     "data": {
      "image/png": "[encoded data removed]",
      "text/plain": [
       "<Figure size 432x288 with 2 Axes>"
      ]
     },
     "metadata": {
      "needs_background": "light"
     },
     "output_type": "display_data"
    }
   ],
   "source": [
    "#Creating the initial population of deltas\n",
    "new_pop_deltas = sample_d(Range, shape=pop_size)\n",
    "print(\"\\n\\nRange:\", Range, \"x waist\")\n",
    "\n",
    "gen = 0\n",
    "while True:\n",
    "    # Shrink range\n",
    "    Range *= shrink_factor\n",
    "    print(\"\\n\\n Gen: {} Range: {} x waist\".format(gen, Range))\n",
    "    if gen == 0:\n",
    "        current_beam_status, new_pop_deltas, fitness = calc_pop_fitness(current_beam_status, \\\n",
    "        new_pop_deltas, fitness, only_offsprings=False)\n",
    "    else:\n",
    "        current_beam_status, new_pop_deltas, fitness = calc_pop_fitness(current_beam_status, \\\n",
    "        new_pop_deltas, fitness, only_offsprings=True)\n",
    "#     print(fitness)\n",
    "    # Selecting the best parents in the population for mating.\n",
    "    parents, parents_fitness = select_mating_pool(new_pop_deltas, fitness, \\\n",
    "                                                  num_parents_mating, show_the_best=True)\n",
    "    # Generating next generation using crossover.\n",
    "    offspring_crossover = crossover(parents, (pop_per_gen - num_parents_mating, num_params))\n",
    "    # Adding some variations to the offsrping using mutation.\n",
    "    offspring_mutation = mutation(offspring_crossover, Range)\n",
    "    # Creating the new population based on the parents and offspring.\n",
    "    new_pop_deltas[0:num_parents_mating, :] = parents\n",
    "    new_pop_deltas[num_parents_mating:, :] = offspring_mutation\n",
    "    fitness[0:num_parents_mating] = parents_fitness\n",
    "    fitness[num_parents_mating:] *= 0.\n",
    "    gen += 1\n",
    "    if fitness[0] > 95.: break"
   ]
  }
 ],
 "metadata": {
  "kernelspec": {
   "display_name": "Python 3",
   "language": "python",
   "name": "python3"
  },
  "language_info": {
   "codemirror_mode": {
    "name": "ipython",
    "version": 3
   },
   "file_extension": ".py",
   "mimetype": "text/x-python",
   "name": "python",
   "nbconvert_exporter": "python",
   "pygments_lexer": "ipython3",
   "version": "3.6.8"
  }
 },
 "nbformat": 4,
 "nbformat_minor": 2
}
