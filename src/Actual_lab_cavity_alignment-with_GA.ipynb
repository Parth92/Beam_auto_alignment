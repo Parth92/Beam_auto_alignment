{
 "cells": [
  {
   "cell_type": "markdown",
   "metadata": {},
   "source": [
    "# Importing packages and load CNN"
   ]
  },
  {
   "cell_type": "code",
   "execution_count": null,
   "metadata": {},
   "outputs": [],
   "source": [
    "# Load the extension\n",
    "# %load_ext autoreload\n",
    "# Autoreload all modules\n",
    "# %autoreload 2"
   ]
  },
  {
   "cell_type": "code",
   "execution_count": null,
   "metadata": {},
   "outputs": [],
   "source": [
    "from funcs import *\n",
    "\n",
    "# Telling the notebook to make plots inline.\n",
    "%matplotlib inline\n",
    "\n",
    "plt.rc('text', usetex=True)\n",
    "plt.rc('font', family='serif', size=12)"
   ]
  },
  {
   "cell_type": "markdown",
   "metadata": {},
   "source": [
    "## Start camera and DAC"
   ]
  },
  {
   "cell_type": "code",
   "execution_count": null,
   "metadata": {},
   "outputs": [],
   "source": [
    "# Create an instant camera object with the camera device found first\n",
    "camera = pylon.InstantCamera(pylon.TlFactory.GetInstance().CreateFirstDevice())\n",
    "print(\"Using Camera \", camera.GetDeviceInfo().GetModelName())\n",
    "\n",
    "camera.Open()\n",
    "\n",
    "# Sanity checks\n",
    "print('Camera Auto Gain is :', camera.GainAuto())\n",
    "if camera.GainAuto() == 'Off':\n",
    "    print('Safe to go ahead with the code..')\n",
    "else:\n",
    "    print('***Warning: Camera Auto Gain is ON!***\\nTurn it off using Pylon software.')\n",
    "\n",
    "# Set exposure\n",
    "camera.ExposureTimeAbs = Exposure"
   ]
  },
  {
   "cell_type": "code",
   "execution_count": null,
   "metadata": {
    "scrolled": true
   },
   "outputs": [],
   "source": [
    "# Allowed number of generations\n",
    "NumGens = 40\n",
    "# Number of images to be grabbed.\n",
    "countOfImagesToGrab = pop_per_gen * (NumGens+2)\n",
    "\n",
    "# Start the grabbing of c_countOfImagesToGrab images.\n",
    "# The camera device is parameterized with a default configuration which\n",
    "# sets up free-running continuous acquisition.\n",
    "camera.StartGrabbingMax(countOfImagesToGrab)"
   ]
  },
  {
   "cell_type": "code",
   "execution_count": null,
   "metadata": {},
   "outputs": [],
   "source": [
    "# Start DAC\n",
    "start_channel = 1\n",
    "bus = busworks.BusWorks_DAC()\n",
    "bus.start()\n",
    "print(\"DAC on IP: \", bus.address)\n",
    "\n",
    "bus.read_voltages()"
   ]
  },
  {
   "cell_type": "markdown",
   "metadata": {},
   "source": [
    "## Initial State"
   ]
  },
  {
   "cell_type": "code",
   "execution_count": null,
   "metadata": {},
   "outputs": [],
   "source": [
    "Img_initial = Capture_image2(camera, 500)\n",
    "print('Initial condition: {}'.format(Img_initial.sum()/n_pixl**2))\n",
    "plt.imshow(Img_initial, cmap=cm.binary_r)\n",
    "plt.colorbar()"
   ]
  },
  {
   "cell_type": "code",
   "execution_count": null,
   "metadata": {},
   "outputs": [],
   "source": [
    "# Initial condition of beam\n",
    "current_beam_status = np.zeros(num_params)"
   ]
  },
  {
   "cell_type": "markdown",
   "metadata": {},
   "source": [
    "## Alignment loop"
   ]
  },
  {
   "cell_type": "code",
   "execution_count": null,
   "metadata": {},
   "outputs": [],
   "source": [
    "Range = Range_orig"
   ]
  },
  {
   "cell_type": "code",
   "execution_count": null,
   "metadata": {
    "scrolled": true
   },
   "outputs": [],
   "source": [
    "# Creating the initial population of deltas\n",
    "new_pop_deltas = sample_d(Range, shape=pop_size, first_sample=True)\n",
    "print(\"\\nRange:\", Range, \"x waist\")\n",
    "# sess = tf.Session()\n",
    "\n",
    "gen = 0\n",
    "mode_stability = 0\n",
    "mode_old = (50,50)\n",
    "# dont_alter_z_cm = False\n",
    "t0 = time.time()\n",
    "\n",
    "# GA loop\n",
    "for gen in range(NumGens):\n",
    "    # Shrink range\n",
    "    Range *= shrink_factor\n",
    "    print(\"\\n\\n Gen: {} Range: {} x waist\".format(gen+1, Range))\n",
    "    # if dont_alter_z_cm:\n",
    "    #     new_pop_deltas[:,-1] = 0.\n",
    "    if gen == 0:\n",
    "        current_beam_status, new_pop_deltas, fitness = calc_pop_fitness(current_beam_status, \\\n",
    "        new_pop_deltas, fitness, camera, bus, only_offsprings=False)\n",
    "    else:\n",
    "        current_beam_status, new_pop_deltas, fitness = calc_pop_fitness(current_beam_status, \\\n",
    "        new_pop_deltas, fitness, camera, bus, only_offsprings=True)\n",
    "    # Selecting the best parents in the population for mating.\n",
    "    current_beam_status, parents, parents_fitness, Img_is_saturated, image = select_mating_pool(current_beam_status, new_pop_deltas, fitness, num_parents_mating, t0, gen, camera, bus, \\\n",
    "                           show_the_best=True, save_best=True)\n",
    "    # Generating next generation using crossover.\n",
    "    offspring_crossover = crossover(parents, (pop_per_gen - num_parents_mating, num_params))\n",
    "    # Adding some variations to the offsrping using mutation.\n",
    "    offspring_mutation = mutation(current_beam_status, offspring_crossover, Range)\n",
    "    # Creating the new population based on the parents and offspring.\n",
    "    new_pop_deltas[:num_parents_mating, :] = parents\n",
    "    new_pop_deltas[num_parents_mating:, :] = offspring_mutation\n",
    "    fitness[:num_parents_mating] = parents_fitness\n",
    "    fitness[num_parents_mating:] *= 0.\n",
    "    # # Scan the cavity and regain the max power point in z_CM\n",
    "    # current_beam_status, new_pop_deltas, img = scan_cavity(current_beam_status, new_pop_deltas, \\\n",
    "    #                                                        Range, Sz, camera, bus, show_fig=True)\n",
    "#     mode_new = Find_mode2(image, separation1=5, Width=30, thresh=0.35, corner=0, show_fig=True, show_basis=True)\n",
    "#     print(\"Mode: \", mode_new)\n",
    "#     if gen > 0:\n",
    "#         if np.all(mode_new == mode_old):\n",
    "#             mode_stability += 1\n",
    "#         else:\n",
    "#             mode_stability = 0\n",
    "#         # check mode stability\n",
    "#         if mode_stability == 3 and np.any(mode_new != (0,0)):\n",
    "#             pass\n",
    "#             # print('Jumping to fundamental mode..')\n",
    "#             # current_beam_status, new_pop_deltas, _ = jump_2_fundamental(current_beam_status, new_pop_deltas, \\\n",
    "#             #                                                             mode_new, camera, bus, show_fig=True)\n",
    "#         elif mode_stability > 3 and np.any(mode_new != (0,0)):\n",
    "#             pass\n",
    "#             # print('Trying alternate jump..')\n",
    "#             # current_beam_status, new_pop_deltas, _ = jump_2_fundamental(current_beam_status, new_pop_deltas, \\\n",
    "#             #                                                             mode_new, camera, bus, show_fig=True)\n",
    "#             # print('Scanning the cavity..')\n",
    "#             # current_beam_status, new_pop_deltas, img = scan_cavity(current_beam_status, new_pop_deltas, \\\n",
    "#             #                                                        1.1*Range, Sz, camera, bus, show_fig=True)\n",
    "#         elif mode_stability == 5 and np.all(mode_new == (0,0)):\n",
    "#             print('Fundamental mode identified! Exiting..')\n",
    "#             break\n",
    "#     print('\\n*****  Mode is {} - occurances: {}  *****\\n'.format(mode_new, mode_stability+1))\n",
    "#     mode_old = mode_new"
   ]
  },
  {
   "cell_type": "code",
   "execution_count": null,
   "metadata": {},
   "outputs": [],
   "source": [
    "Exposure"
   ]
  },
  {
   "cell_type": "markdown",
   "metadata": {},
   "source": [
    "### Fundamental mode position and scanning"
   ]
  },
  {
   "cell_type": "code",
   "execution_count": null,
   "metadata": {},
   "outputs": [],
   "source": [
    "# %matplotlib notebook\n",
    "\n",
    "# Beam_status = [5.37932319e-04, 3.33051668e-04, -1.06754584e-03, -2.70645706e-03, 1.14001752e-06]\n",
    "\n",
    "# dirn = 1\n",
    "# fig, ax1 = plt.subplots(1,1, figsize=(6,6))\n",
    "\n",
    "# for i in range(10000):\n",
    "#     Beam_status += np.array([0., 0., 0., 0., dirn*1e-8])\n",
    "#     if Beam_status[-1] >= phi_CM_PZT_max or Beam_status[-1] <= 0.:\n",
    "#         dirn *= -1\n",
    "#     R_fn1, Img1 = Reward_fn(Beam_status, camera, bus)\n",
    "#     ax1.imshow(Img1, cmap=cm.binary_r)\n",
    "#     fig.canvas.draw()"
   ]
  },
  {
   "cell_type": "markdown",
   "metadata": {},
   "source": [
    "# Plot status"
   ]
  },
  {
   "cell_type": "code",
   "execution_count": null,
   "metadata": {},
   "outputs": [],
   "source": [
    "VS = [2.04685336e-04, -1.35697666e-04, 1.03526137e-03, 1.61361483e-03, 0]\n",
    "Set_Voltage(VS, bus)"
   ]
  },
  {
   "cell_type": "code",
   "execution_count": null,
   "metadata": {},
   "outputs": [],
   "source": []
  },
  {
   "cell_type": "code",
   "execution_count": null,
   "metadata": {
    "scrolled": true
   },
   "outputs": [],
   "source": [
    "plt.interactive('off') # if this cell is run after digital locking cell (last)\n",
    "Img1 = Capture_image2(camera, 300)\n",
    "print(Img1.sum()/n_pixl**2)\n",
    "plt.imshow(Img1[::-1], cmap=cm.binary_r)"
   ]
  },
  {
   "cell_type": "markdown",
   "metadata": {},
   "source": [
    "## Make gif of the images"
   ]
  },
  {
   "cell_type": "code",
   "execution_count": null,
   "metadata": {},
   "outputs": [],
   "source": [
    "import imageio\n",
    "\n",
    "files = os.listdir(ImagesFolder)\n",
    "files.sort()\n",
    "images = []\n",
    "for filename in files:\n",
    "    images.append(imageio.imread(ImagesFolder+'/'+filename))\n",
    "imageio.mimsave(ImagesFolder + '/movie.gif', images, duration=0.5)"
   ]
  },
  {
   "cell_type": "code",
   "execution_count": null,
   "metadata": {},
   "outputs": [],
   "source": [
    "%matplotlib notebook"
   ]
  },
  {
   "cell_type": "code",
   "execution_count": null,
   "metadata": {},
   "outputs": [],
   "source": [
    "# Once GA has found the fundamental mode implement basic digital locking\n",
    "show_fig = True\n",
    "read_time = True\n",
    "\n",
    "lock_record = [0.]\n",
    "P_record = [0.]\n",
    "i = 0\n",
    "j = 0\n",
    "\n",
    "if show_fig:\n",
    "    fig, (ax1, ax2) = plt.subplots(2,1, figsize=(8,6))\n",
    "\n",
    "while True:\n",
    "    tt1 = time.time()\n",
    "    Img = Capture_image(300, camera)\n",
    "    Mode = Find_mode2(Img, separation1=10, Sigma1=1, Width=10, thresh=0.5, corner=0)\n",
    "    P_new = 100.*Img.max()/n_pixl**2./(Mode[0]+Mode[1]+1.)\n",
    "    # activate loop if power falls below thresh\n",
    "    if not locking_loop_on and P_new < P_thresh*P_max:\n",
    "        locking_loop_on = True\n",
    "    # if Power drops then reverse the direction\n",
    "    if P_new < P_old:\n",
    "        j += 1\n",
    "        # set delay in direction reversal\n",
    "        if j == 1:\n",
    "            # print('reversing..')\n",
    "            direction *= -1\n",
    "            j = 0\n",
    "    # if Power is increasing, note for how many steps did it increase\n",
    "    if P_new > P_old:\n",
    "        if P_new > P_max:\n",
    "            P_max = P_new\n",
    "            print('P_max reset to ', P_max)\n",
    "        elif P_new > P_thresh*P_max:\n",
    "            locking_loop_on = False\n",
    "    # Actual locking loop\n",
    "    if locking_loop_on:\n",
    "        # take the delta step\n",
    "        current_beam_status[4] += direction*z_step\n",
    "        # cumulatively subtracting each delta step from all deltas\n",
    "        new_pop_deltas[:,4] -= direction*z_step\n",
    "        Set_Voltage(current_beam_status, bus)\n",
    "        # record the step\n",
    "        lock_record.append(lock_record[-1]+direction*z_step)\n",
    "        P_record.append(P_new)\n",
    "    # record the value before updation\n",
    "    P_old = P_new\n",
    "    if read_time:\n",
    "        delta_t = time.time() - tt1\n",
    "        read_time = False\n",
    "    if show_fig and i%10==0:\n",
    "        # update image\n",
    "        ax1.imshow(Img, cmap=cm.binary_r)\n",
    "        N_l = len(lock_record)\n",
    "        ax2.clear()\n",
    "        ax2.plot(np.arange(N_l)*(delta_t), np.array(lock_record), 'r')\n",
    "        ax2.set_xlabel('time (sec)')\n",
    "        ax2.set_ylabel('$\\Delta L$')\n",
    "        fig.canvas.draw()\n",
    "    # print('{0:1.2f} Pnew: {1:1.3f}'.format(time.time() - tt1, P_new))\n",
    "    i += 1"
   ]
  },
  {
   "cell_type": "markdown",
   "metadata": {},
   "source": [
    "# Stop Camera and DAC"
   ]
  },
  {
   "cell_type": "code",
   "execution_count": null,
   "metadata": {
    "scrolled": true
   },
   "outputs": [],
   "source": [
    "# Stop camera and DAC\n",
    "camera.Close()\n",
    "bus.stop()"
   ]
  },
  {
   "cell_type": "code",
   "execution_count": null,
   "metadata": {},
   "outputs": [],
   "source": [
    "# from scipy.interpolate import interp1d\n",
    "\n",
    "# ii = np.where(np.array(P_record)>200)\n",
    "# ff = interp1d(np.arange(len(lock_record))[ii], np.array(lock_record)[ii], kind='cubic')\n",
    "# yy = ff(np.arange(102,2246))\n",
    "\n",
    "# plt.ion()\n",
    "# fig, ax1 = plt.subplots(1,1)\n",
    "# ax1.plot(np.arange(102,2246)[:500], yy[:500])\n",
    "# fig.canvas.draw()"
   ]
  },
  {
   "cell_type": "code",
   "execution_count": null,
   "metadata": {},
   "outputs": [],
   "source": [
    "# Fundamental mode found at - \n",
    "# [5.37932319e-04, 3.33051668e-04, -1.06754584e-03, -2.70645706e-03, 1.14001752e-06]\n",
    "# [-4.85114666e-04, -2.79346829e-06, -1.57814286e-03, -2.89688008e-03, 3.61083367e-07]"
   ]
  }
 ],
 "metadata": {
  "kernelspec": {
   "display_name": "Python 3",
   "language": "python",
   "name": "python3"
  },
  "language_info": {
   "codemirror_mode": {
    "name": "ipython",
    "version": 3
   },
   "file_extension": ".py",
   "mimetype": "text/x-python",
   "name": "python",
   "nbconvert_exporter": "python",
   "pygments_lexer": "ipython3",
   "version": "3.6.8"
  },
  "toc": {
   "base_numbering": 1,
   "nav_menu": {},
   "number_sections": true,
   "sideBar": true,
   "skip_h1_title": false,
   "title_cell": "Table of Contents",
   "title_sidebar": "Contents",
   "toc_cell": false,
   "toc_position": {},
   "toc_section_display": true,
   "toc_window_display": false
  }
 },
 "nbformat": 4,
 "nbformat_minor": 4
}
