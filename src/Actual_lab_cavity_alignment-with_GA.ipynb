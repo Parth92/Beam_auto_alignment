{
 "cells": [
  {
   "cell_type": "markdown",
   "metadata": {},
   "source": [
    "# Importing packages and load CNN"
   ]
  },
  {
   "cell_type": "code",
   "execution_count": null,
   "metadata": {},
   "outputs": [],
   "source": [
    "# # Load the extension\n",
    "# %load_ext autoreload\n",
    "# # Autoreload all modules\n",
    "# %autoreload 2"
   ]
  },
  {
   "cell_type": "code",
   "execution_count": null,
   "metadata": {},
   "outputs": [],
   "source": [
    "import numpy as np\n",
    "import matplotlib.pyplot as plt\n",
    "\n",
    "import imageio\n",
    "import time\n",
    "import os\n",
    "import busworks\n",
    "\n",
    "from pypylon import pylon\n",
    "from matplotlib import cm"
   ]
  },
  {
   "cell_type": "code",
   "execution_count": null,
   "metadata": {},
   "outputs": [],
   "source": [
    "import funcs\n",
    "\n",
    "# Telling the notebook to make plots inline.\n",
    "%matplotlib inline\n",
    "\n",
    "plt.rc('text', usetex=True)\n",
    "plt.rc('font', family='serif', size=12)"
   ]
  },
  {
   "cell_type": "markdown",
   "metadata": {},
   "source": [
    "## Start camera and DAC"
   ]
  },
  {
   "cell_type": "code",
   "execution_count": null,
   "metadata": {},
   "outputs": [],
   "source": [
    "# Create an instant camera object with the camera device found first\n",
    "camera = pylon.InstantCamera(pylon.TlFactory.GetInstance().CreateFirstDevice())\n",
    "print(\"Using Camera \", camera.GetDeviceInfo().GetModelName())\n",
    "\n",
    "camera.Open()\n",
    "\n",
    "# Sanity checks\n",
    "print('Camera Auto Gain is :', camera.GainAuto())\n",
    "if camera.GainAuto() == 'Off':\n",
    "    print('Safe to go ahead with the code..')\n",
    "else:\n",
    "    print('***Warning: Camera Auto Gain is ON!***\\nTurn it off using Pylon software.')\n",
    "\n",
    "# Set exposure\n",
    "camera.ExposureTimeAbs = funcs.Exposure"
   ]
  },
  {
   "cell_type": "code",
   "execution_count": null,
   "metadata": {
    "scrolled": true
   },
   "outputs": [],
   "source": [
    "# Allowed number of generations\n",
    "NumGens = 10\n",
    "# Number of images to be grabbed.\n",
    "countOfImagesToGrab = funcs.pop_per_gen * funcs.N_CM_STEPS * (NumGens+2)\n",
    "\n",
    "# Start the grabbing of c_countOfImagesToGrab images.\n",
    "# The camera device is parameterized with a default configuration which\n",
    "# sets up free-running continuous acquisition.\n",
    "camera.StartGrabbingMax(countOfImagesToGrab)"
   ]
  },
  {
   "cell_type": "code",
   "execution_count": null,
   "metadata": {},
   "outputs": [],
   "source": [
    "# Start DAC\n",
    "start_channel = 1\n",
    "bus = busworks.BusWorks_DAC()\n",
    "bus.start()\n",
    "print(\"DAC on IP: \", bus.address)\n",
    "\n",
    "bus.read_voltages()"
   ]
  },
  {
   "cell_type": "markdown",
   "metadata": {},
   "source": [
    "## Initial State"
   ]
  },
  {
   "cell_type": "code",
   "execution_count": null,
   "metadata": {},
   "outputs": [],
   "source": [
    "Img_initial = funcs.Capture_image(camera, 500)\n",
    "print('Initial condition: {}'.format(Img_initial.sum()/funcs.n_pixl**2))\n",
    "plt.imshow(Img_initial, cmap=cm.binary_r)\n",
    "plt.colorbar()"
   ]
  },
  {
   "cell_type": "code",
   "execution_count": null,
   "metadata": {},
   "outputs": [],
   "source": [
    "# Initial condition of beam\n",
    "current_beam_status = np.zeros(funcs.num_params)"
   ]
  },
  {
   "cell_type": "markdown",
   "metadata": {},
   "source": [
    "## Alignment loop"
   ]
  },
  {
   "cell_type": "code",
   "execution_count": null,
   "metadata": {},
   "outputs": [],
   "source": [
    "Range = funcs.Range_orig"
   ]
  },
  {
   "cell_type": "code",
   "execution_count": null,
   "metadata": {
    "scrolled": false
   },
   "outputs": [],
   "source": [
    "# Creating the initial population of deltas\n",
    "new_pop_deltas = funcs.sample_d(Range, shape=funcs.pop_size, first_sample=True)\n",
    "print(\"\\nRange:\", Range, \"x waist\")\n",
    "# sess = tf.Session()\n",
    "\n",
    "gen = 0\n",
    "mode_stability = 0\n",
    "mode_old = (50,50)\n",
    "# dont_alter_z_cm = False\n",
    "t0 = time.time()\n",
    "\n",
    "# GA loop\n",
    "for gen in range(NumGens):\n",
    "    # Shrink range\n",
    "    Range *= funcs.shrink_factor\n",
    "    print(\"\\n\\n Gen: {} Range: {} x waist\".format(gen+1, Range))\n",
    "    # if dont_alter_z_cm:\n",
    "    #     new_pop_deltas[:,-1] = 0.\n",
    "    if gen == 0:\n",
    "        current_beam_status, new_pop_deltas, fitness = funcs.calc_pop_fitness(current_beam_status, \\\n",
    "                                                                              new_pop_deltas, camera, bus, \\\n",
    "                                                                              only_offsprings=False)\n",
    "    else:\n",
    "        current_beam_status, new_pop_deltas, fitness = funcs.calc_pop_fitness(current_beam_status, \\\n",
    "                                                                              new_pop_deltas, camera, bus, \\\n",
    "                                                                              only_offsprings=True)\n",
    "    # Selecting the best parents in the population for mating.\n",
    "    current_beam_status, parents, parents_fitness, Img_is_saturated = \\\n",
    "            funcs.select_mating_pool(current_beam_status, new_pop_deltas, fitness, \\\n",
    "                                     funcs.num_parents_mating, t0, gen, camera, bus, funcs.BEST_IMG_OF_GEN, \\\n",
    "                                     show_the_best=True, save_best=True)\n",
    "    # Generating next generation using crossover.\n",
    "    offspring_crossover = funcs.crossover(parents, (funcs.pop_per_gen - funcs.num_parents_mating, \\\n",
    "                                                    funcs.num_params))\n",
    "    # Adding some variations to the offsrping using mutation.\n",
    "    offspring_mutation = funcs.mutation(current_beam_status, offspring_crossover, Range)\n",
    "    # Creating the new population based on the parents and offspring.\n",
    "    new_pop_deltas[:funcs.num_parents_mating, :] = parents\n",
    "    new_pop_deltas[funcs.num_parents_mating:, :] = offspring_mutation\n",
    "    fitness[:funcs.num_parents_mating] = parents_fitness\n",
    "    fitness[funcs.num_parents_mating:] *= 0.\n",
    "    # Show mode for best image in gen\n",
    "    mode_new = funcs.Find_mode2(funcs.BEST_IMG_OF_GEN, separation1=funcs.SEPARATION, Width=funcs.WIDTH, \\\n",
    "                          thresh=funcs.THRESH, corner=0, show_fig=True, show_basis=True)\n",
    "    print(\"Mode: \", mode_new)\n",
    "    if mode_new == (0,0):\n",
    "        mode_stability += 1\n",
    "    else:\n",
    "        mode_stability = 0\n",
    "    # mode stability for 3 consecutive gens exits loop\n",
    "    if mode_stability == 3:\n",
    "        print('Fundamental mode identified! Exiting..')\n",
    "        break"
   ]
  },
  {
   "cell_type": "markdown",
   "metadata": {},
   "source": [
    "## Make gif of the images"
   ]
  },
  {
   "cell_type": "code",
   "execution_count": null,
   "metadata": {},
   "outputs": [],
   "source": [
    "files = os.listdir(funcs.ImagesFolder)\n",
    "files.sort()\n",
    "images = []\n",
    "for filename in files:\n",
    "    images.append(imageio.imread(funcs.ImagesFolder+'/'+filename))\n",
    "imageio.mimsave(funcs.ImagesFolder + '/movie.gif', images, duration=0.5)"
   ]
  },
  {
   "cell_type": "markdown",
   "metadata": {},
   "source": [
    "# Simple lock"
   ]
  },
  {
   "cell_type": "markdown",
   "metadata": {},
   "source": [
    "## jump to best alignment"
   ]
  },
  {
   "cell_type": "code",
   "execution_count": null,
   "metadata": {},
   "outputs": [],
   "source": [
    "print('Best alignment: ', funcs.BEST_BEAM_STATUS, \"; reward: \", funcs.BEST_REWARD)\n",
    "funcs.Set_Voltage(np.append(funcs.BEST_BEAM_STATUS, 0), bus)\n",
    "# Best alignment:  [-0.00016919 -0.00048279  0.00123649  0.00314689]\n",
    "# Set_Voltage([8.71353902e-05, -3.69861200e-04, 1.58933381e-03, 2.61383266e-03, 0], bus)"
   ]
  },
  {
   "cell_type": "markdown",
   "metadata": {
    "scrolled": false
   },
   "source": [
    "## Get max power"
   ]
  },
  {
   "cell_type": "code",
   "execution_count": null,
   "metadata": {},
   "outputs": [],
   "source": [
    "%matplotlib notebook"
   ]
  },
  {
   "cell_type": "code",
   "execution_count": null,
   "metadata": {},
   "outputs": [],
   "source": [
    "show_fig = True\n",
    "\n",
    "# P_max = 10000\n",
    "P_max = funcs.BEST_REWARD/(2e4/funcs.n_pixl**2./funcs.Exposure) # inverted reward fn to get image power\n",
    "lock_record = [0.]\n",
    "P_record = [0.]\n",
    "Zphi = 0.\n",
    "direction = 1   # direction of movement\n",
    "\n",
    "# Set exposure\n",
    "funcs.Exposure = 150\n",
    "camera.ExposureTimeAbs = funcs.Exposure\n",
    "\n",
    "# get max power again\n",
    "print(\"Max power: \", P_max)\n",
    "\n",
    "for i in range(2000):\n",
    "    tt1 = time.time()\n",
    "    Img = funcs.Capture_image(camera, 500)\n",
    "    P_new = Img.sum()\n",
    "    # adjust z-step according to o/p power\n",
    "    if P_new < P_max/100.:\n",
    "        z_step = 5e-10\n",
    "    else:\n",
    "        z_step = 1e-11\n",
    "    # if P_max exceeded, reset to new value\n",
    "    if P_new > P_max:\n",
    "        P_max = P_new\n",
    "        print(\"Max power reset to : \", P_max)"
   ]
  },
  {
   "cell_type": "markdown",
   "metadata": {},
   "source": [
    "## fringe lock loop"
   ]
  },
  {
   "cell_type": "code",
   "execution_count": null,
   "metadata": {
    "scrolled": false
   },
   "outputs": [],
   "source": [
    "# create fig obj\n",
    "if show_fig:\n",
    "    fig, (ax1, ax2) = plt.subplots(2,1, figsize=(8,6))\n",
    "\n",
    "# lock loop\n",
    "for i in range(10000):\n",
    "    tt1 = time.time()\n",
    "    Img = funcs.Capture_image(camera, 500)\n",
    "    P_new = Img.sum()\n",
    "    # adjust z-step according to o/p power\n",
    "    if P_new < P_max/1000.:\n",
    "        z_step = 1e-9\n",
    "    else:\n",
    "        z_step = 1e-12\n",
    "    # maintaining FWHM position\n",
    "    if P_new < P_max / 2.:\n",
    "        # positive dir\n",
    "        sign = 1\n",
    "    else:\n",
    "        # take an opposite step\n",
    "        sign = -1\n",
    "    # take a step\n",
    "    Zphi += sign*direction*z_step\n",
    "    # if hits end of z-range\n",
    "    if (Zphi < 0) or (Zphi > funcs.Lambda):\n",
    "        direction *= -1\n",
    "        continue\n",
    "    # cavity mirror scan step\n",
    "    funcs.Set_Voltage(np.append(funcs.BEST_BEAM_STATUS, Zphi), bus)\n",
    "    # record data\n",
    "    lock_record.append(Zphi)\n",
    "    P_record.append(P_new)\n",
    "    # time step\n",
    "    delta_t = time.time() - tt1\n",
    "    # fig\n",
    "    if show_fig and i%10==0:\n",
    "        # update image\n",
    "        ax1.clear()\n",
    "        ax1.imshow(Img, cmap=cm.binary_r)\n",
    "        ax2.clear()\n",
    "        ax2.plot(np.arange(len(lock_record))*(delta_t), np.array(lock_record), 'r')\n",
    "        ax2.set_xlabel('time (sec)')\n",
    "        ax2.set_ylabel('$\\Delta L$')\n",
    "        fig.canvas.draw()"
   ]
  },
  {
   "cell_type": "code",
   "execution_count": null,
   "metadata": {
    "scrolled": true
   },
   "outputs": [],
   "source": [
    "# plt.plot(P_record)"
   ]
  },
  {
   "cell_type": "markdown",
   "metadata": {},
   "source": [
    "# Stop Camera and DAC"
   ]
  },
  {
   "cell_type": "code",
   "execution_count": null,
   "metadata": {
    "scrolled": true
   },
   "outputs": [],
   "source": [
    "# Stop camera and DAC\n",
    "camera.Close()\n",
    "bus.stop()"
   ]
  }
 ],
 "metadata": {
  "kernelspec": {
   "display_name": "Python 3",
   "language": "python",
   "name": "python3"
  },
  "language_info": {
   "codemirror_mode": {
    "name": "ipython",
    "version": 3
   },
   "file_extension": ".py",
   "mimetype": "text/x-python",
   "name": "python",
   "nbconvert_exporter": "python",
   "pygments_lexer": "ipython3",
   "version": "3.6.8"
  },
  "toc": {
   "base_numbering": 1,
   "nav_menu": {},
   "number_sections": true,
   "sideBar": true,
   "skip_h1_title": false,
   "title_cell": "Table of Contents",
   "title_sidebar": "Contents",
   "toc_cell": false,
   "toc_position": {},
   "toc_section_display": true,
   "toc_window_display": false
  }
 },
 "nbformat": 4,
 "nbformat_minor": 4
}
