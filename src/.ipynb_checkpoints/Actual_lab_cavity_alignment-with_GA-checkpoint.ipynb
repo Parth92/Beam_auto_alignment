{
 "cells": [
  {
   "cell_type": "markdown",
   "metadata": {},
   "source": [
    "# Importing packages and load CNN"
   ]
  },
  {
   "cell_type": "code",
   "execution_count": null,
   "metadata": {},
   "outputs": [],
   "source": [
    "# Load the extension\n",
    "%load_ext autoreload\n",
    "# Autoreload all modules\n",
    "%autoreload 2"
   ]
  },
  {
   "cell_type": "code",
   "execution_count": null,
   "metadata": {},
   "outputs": [],
   "source": [
    "from funcs import *\n",
    "\n",
    "# Telling the notebook to make plots inline.\n",
    "%matplotlib inline\n",
    "plt.rc('text', usetex=True)\n",
    "plt.rc('font', family='serif', size=12)"
   ]
  },
  {
   "cell_type": "markdown",
   "metadata": {},
   "source": [
    "## Start camera and DAC"
   ]
  },
  {
   "cell_type": "code",
   "execution_count": null,
   "metadata": {},
   "outputs": [],
   "source": [
    "camera = pylon.InstantCamera(pylon.TlFactory.GetInstance().CreateFirstDevice())\n",
    "print(\"Using Camera \", camera.GetDeviceInfo().GetModelName())\n",
    "camera.Open()\n",
    "\n",
    "# Sanity checks\n",
    "print('Camera Auto Gain is :', camera.GainAuto())\n",
    "if camera.GainAuto() == 'Off':\n",
    "    print('Safe to go ahead with the code..')\n",
    "else:\n",
    "    print('***Warning: Camera Auto Gain is ON!***\\nTurn it off using Pylon software.')\n",
    "camera.ExposureTimeAbs = Exposure\n",
    "\n",
    "# Start DAC\n",
    "start_channel = 1\n",
    "bus = busworks.BusWorks_DAC()\n",
    "bus.start()\n",
    "print(\"DAC on IP: \", bus.address)"
   ]
  },
  {
   "cell_type": "markdown",
   "metadata": {},
   "source": [
    "## Initial State"
   ]
  },
  {
   "cell_type": "code",
   "execution_count": null,
   "metadata": {},
   "outputs": [],
   "source": [
    "Img_initial = Capture_image(1000)\n",
    "print('Initial condition: {}'.format(Img_initial.sum()/n_pixl**2))\n",
    "plt.imshow(Img_initial[::-1], cmap=cm.binary_r)\n",
    "plt.colorbar()"
   ]
  },
  {
   "cell_type": "code",
   "execution_count": null,
   "metadata": {},
   "outputs": [],
   "source": [
    "# Initial condition of beam\n",
    "current_beam_status = np.zeros(num_params)"
   ]
  },
  {
   "cell_type": "markdown",
   "metadata": {},
   "source": [
    "## Alignment loop"
   ]
  },
  {
   "cell_type": "code",
   "execution_count": null,
   "metadata": {},
   "outputs": [],
   "source": [
    "# Creating the initial population of deltas\n",
    "new_pop_deltas = sample_d(Range, shape=pop_size)\n",
    "print(\"\\n\\nRange:\", Range, \"x waist\")\n",
    "sess = tf.Session()\n",
    "\n",
    "gen = 0\n",
    "dont_alter_z_cm = False\n",
    "t0 = time.time()\n",
    "\n",
    "# GA loop\n",
    "for gen in range(1):\n",
    "    # Shrink range\n",
    "    Range *= shrink_factor\n",
    "    print(\"\\n\\n Gen: {} Range: {} x waist\".format(gen, Range))\n",
    "    if dont_alter_z_cm:\n",
    "        new_pop_deltas[:,-1] = 0.\n",
    "    if gen == 0:\n",
    "        current_beam_status, new_pop_deltas, fitness = calc_pop_fitness(current_beam_status, \\\n",
    "        new_pop_deltas, fitness, only_offsprings=False)\n",
    "    else:\n",
    "        current_beam_status, new_pop_deltas, fitness = calc_pop_fitness(current_beam_status, \\\n",
    "        new_pop_deltas, fitness, only_offsprings=True)\n",
    "    # Selecting the best parents in the population for mating.\n",
    "    current_beam_status, parents, parents_fitness, Img_is_saturated, image = \\\n",
    "        select_mating_pool(current_beam_status, new_pop_deltas, fitness, num_parents_mating, t0, gen, \\\n",
    "                           show_the_best=True, save_best=False)\n",
    "    # Generating next generation using crossover.\n",
    "    offspring_crossover = crossover(parents, (pop_per_gen - num_parents_mating, num_params))\n",
    "    # Adding some variations to the offsrping using mutation.\n",
    "    offspring_mutation = mutation(offspring_crossover, Range)\n",
    "    # Creating the new population based on the parents and offspring.\n",
    "    new_pop_deltas[:num_parents_mating, :] = parents\n",
    "    new_pop_deltas[num_parents_mating:, :] = offspring_mutation\n",
    "    fitness[:num_parents_mating] = parents_fitness\n",
    "    fitness[num_parents_mating:] *= 0.\n",
    "    # Scan the cavity and regain the max power point in z_CM\n",
    "    current_beam_status, new_pop_deltas, _ = scan_cavity(current_beam_status, new_pop_deltas, \\\n",
    "                                                           Range, size, show_fig=True)\n",
    "    # Check mode at every 5th gen\n",
    "    if gen%5 == 0 and gen > 0:\n",
    "        mode = Find_mode2(img_loc, separation1=5, corner=0, show_fig=True, show_basis=True)\n",
    "        print('Mode is {}'.format(mode))\n",
    "        if np.all(mode == (0,0)):\n",
    "            print('Fundamental mode identified! Exiting..')\n",
    "            break\n",
    "        else:\n",
    "            # taking a jump in z_CM to make the cavity resonant to fundamental mode only\n",
    "            current_beam_status, new_pop_deltas, _ = jump_2_fundamental(current_beam_status, new_pop_deltas, \\\n",
    "                                                                        mode, show_fig=True)\n",
    "            # freezing z_CM \n",
    "            dont_alter_z_cm = True\n",
    "\n",
    "#     if (gen>7) and (Img_is_saturated):\n",
    "#         image = pad_and_resize_image(image)\n",
    "#         # time to check the mode\n",
    "#         mode = read_mode(image)\n",
    "#         print('Mode is {}'.format(mode))\n",
    "#         if (int(mode[0][3]) + int(mode[0][5])) == 0:\n",
    "#             print('Fundamental mode identified! Exiting..')\n",
    "#             break"
   ]
  },
  {
   "cell_type": "code",
   "execution_count": null,
   "metadata": {},
   "outputs": [],
   "source": [
    "Img1 = Capture_image(700)\n",
    "print(Img1.sum()/n_pixl**2)\n",
    "plt.imshow(Img1[::-1], cmap=cm.binary_r)\n",
    "plt.colorbar()"
   ]
  },
  {
   "cell_type": "code",
   "execution_count": null,
   "metadata": {
    "scrolled": true
   },
   "outputs": [],
   "source": [
    "# Stop camera and DAC\n",
    "camera.Close()\n",
    "bus.stop()"
   ]
  },
  {
   "cell_type": "markdown",
   "metadata": {},
   "source": [
    "## Make gif of the images"
   ]
  },
  {
   "cell_type": "code",
   "execution_count": null,
   "metadata": {},
   "outputs": [],
   "source": [
    "import imageio\n",
    "\n",
    "files = os.listdir(ImagesFolder)\n",
    "files.sort()\n",
    "images = []\n",
    "for filename in files:\n",
    "    images.append(imageio.imread(ImagesFolder+'/'+filename))\n",
    "imageio.mimsave(ImagesFolder + '/movie.gif', images, duration=0.5)"
   ]
  }
 ],
 "metadata": {
  "kernelspec": {
   "display_name": "Python 3",
   "language": "python",
   "name": "python3"
  },
  "language_info": {
   "codemirror_mode": {
    "name": "ipython",
    "version": 3
   },
   "file_extension": ".py",
   "mimetype": "text/x-python",
   "name": "python",
   "nbconvert_exporter": "python",
   "pygments_lexer": "ipython3",
   "version": "3.6.8"
  }
 },
 "nbformat": 4,
 "nbformat_minor": 2
}
