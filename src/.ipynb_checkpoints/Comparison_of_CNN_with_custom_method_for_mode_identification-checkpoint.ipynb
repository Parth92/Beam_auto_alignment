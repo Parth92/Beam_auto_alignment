{
 "cells": [
  {
   "cell_type": "code",
   "execution_count": 1,
   "metadata": {},
   "outputs": [],
   "source": [
    "# Load the extension\n",
    "%load_ext autoreload\n",
    "# Autoreload all modules\n",
    "%autoreload 2"
   ]
  },
  {
   "cell_type": "code",
   "execution_count": 2,
   "metadata": {},
   "outputs": [],
   "source": [
    "import os\n",
    "from tqdm import tqdm\n",
    "import time\n",
    "\n",
    "from funcs import Find_Peaks, Thresh, find_basis, distance_from_vect, points_along_vect, peaks_to_mode, \\\n",
    "                    Find_mode, test_consistency, case1_m_0, case2_0_n, case3_m_n, Find_mode2\n",
    "%matplotlib inline"
   ]
  },
  {
   "cell_type": "code",
   "execution_count": null,
   "metadata": {},
   "outputs": [],
   "source": [
    "# def Find_Peaks(IMG, separation=1, Sigma=0.5, show_ada_thresh=False, show_fig=False):\n",
    "#     if show_ada_thresh: image_max = ndi.maximum_filter(IMG, size=separation, mode='constant')\n",
    "#     Smooth_img = gaussian(IMG,  sigma=Sigma)\n",
    "#     coordinates = peak_local_max(Smooth_img, min_distance=separation)\n",
    "#     coordinates = np.array(coordinates)\n",
    "#     dummy = coordinates[:,0].copy()\n",
    "#     coordinates[:,0] = coordinates[:,1]\n",
    "#     coordinates[:,1] = dummy\n",
    "#     if show_fig:\n",
    "#         plt.figure()\n",
    "#         plt.imshow(Smooth_img, cmap=plt.cm.gray)\n",
    "#         plt.colorbar()\n",
    "#         plt.plot(coordinates[:, 0],\n",
    "#                  coordinates[:, 1], 'r*')\n",
    "#     if show_ada_thresh:\n",
    "#         plt.figure()\n",
    "#         plt.imshow(image_max, cmap=plt.cm.gray)\n",
    "#         plt.colorbar()\n",
    "#     return coordinates\n",
    "\n",
    "# def Thresh(IMG1, thresh=0.5):\n",
    "#     IMG = IMG1.copy()\n",
    "#     IMG[IMG < thresh*IMG.max()] = 0.\n",
    "#     return IMG\n",
    "\n",
    "# # get the basis vectors\n",
    "# def find_basis(P0, P1):\n",
    "#     Basis_vect = np.array(P1-P0, dtype='d')\n",
    "#     Basis_vect /= float(np.sqrt(Basis_vect[0]**2. + Basis_vect[1]**2.))\n",
    "#     # slope\n",
    "#     slope = (P1[1]-P0[1])\n",
    "#     slope /= (P1[0]-P0[0])\n",
    "#     return Basis_vect, slope\n",
    "\n",
    "# def distance_from_vect(vect, Point):\n",
    "#     m = vect[1] / vect[0]\n",
    "#     if np.isinf(m) or np.isnan(m):\n",
    "#         m = 1e2\n",
    "#     return (Point[1] - m*Point[0]) / np.sqrt(m**2+1)\n",
    "\n",
    "# def points_along_vect(P_corner, Basis, Points, width):\n",
    "#     # Perpendicular distance\n",
    "#     d = []\n",
    "#     for point in Points:\n",
    "#         # (point-P_corner) to translate P_corner to origin\n",
    "#         d.append(abs(distance_from_vect(Basis, point-P_corner)))\n",
    "#     d = np.array(d)\n",
    "#     return len(d[d<width])\n",
    "\n",
    "# def peaks_to_mode(Peak_corner, Peaks, Width, Basis1, slope1, Basis2=[], slope2=None):\n",
    "#     # ensure that the basis vects have at least pi/4 angle between them\n",
    "#     if not bool(len(Basis2)) and not slope2:\n",
    "#         m = points_along_vect(Peak_corner, Basis1, Peaks, Width)\n",
    "#         n = 1\n",
    "#     elif (abs(np.arctan(slope1) - np.arctan(slope2)) < np.pi/4.):\n",
    "#         m = points_along_vect(Peak_corner, Basis1, Peaks, Width)\n",
    "#         n = 1\n",
    "#     else:\n",
    "#         m = points_along_vect(Peak_corner, Basis1, Peaks, Width)\n",
    "#         n = points_along_vect(Peak_corner, Basis2, Peaks, Width)\n",
    "#     if abs(slope1) < 1.:\n",
    "#         return (m-1,n-1)\n",
    "#     else:\n",
    "#         return (n-1,m-1)\n",
    "\n",
    "# def Find_mode(img_loc, separation=1, Sigma=0.5, Width=10, thresh=0.5, Show_ada_thresh=False, Show_fig=True, corner=0, show_peaks=False):\n",
    "#     # Read image\n",
    "#     img = 255 - imageio.imread(img_loc)\n",
    "#     # thresholding and smoothing image to find peaks\n",
    "#     img1 = Thresh(img, thresh)\n",
    "#     peaks = Find_Peaks(img1, separation=separation, Sigma=Sigma, show_ada_thresh=Show_ada_thresh, show_fig=Show_fig)\n",
    "#     if len(peaks) == 1:\n",
    "#         return (0,0)\n",
    "#     # corner point\n",
    "#     if corner==0:\n",
    "#         i_corner = peaks[:,0].argmin()\n",
    "#     elif corner==1:\n",
    "#         i_corner = peaks[:,0].argmax()\n",
    "#     elif corner==2:\n",
    "#         i_corner = peaks[:,1].argmin()\n",
    "#     elif corner==3:\n",
    "#         i_corner = peaks[:,1].argmax()\n",
    "#     peak_corner = peaks[i_corner]\n",
    "#     # distances from corner point\n",
    "#     d = np.array([((peaks[i,0]-peak_corner[0])**2 + (peaks[i,1]-peak_corner[1])**2) for i in range(len(peaks[:,0]))])\n",
    "#     d[d==0] = d.max() + 1.\n",
    "#     # catch compact basis vectors\n",
    "#     i_near1 = d.argmin()\n",
    "#     peak_near1 = peaks[i_near1]\n",
    "#     # constructing unit vect and slope\n",
    "#     basis1, m1 = find_basis(peak_corner, peak_near1)\n",
    "#     if len(peaks) > 2:\n",
    "#         d[i_near1] = d.max() + 1.\n",
    "#         i_near2 = d.argmin()\n",
    "#         peak_near2 = peaks[i_near2]\n",
    "#         # print(peak_corner, peak_near1, peak_near2)\n",
    "#         # constructing unit vect and slope\n",
    "#         basis2, m2 = find_basis(peak_corner, peak_near2)\n",
    "#         # print(basis1, basis2, m1, m2)\n",
    "#         if show_peaks:\n",
    "#             kk = 4\n",
    "#             plt.plot([peak_corner[0], peak_corner[0]+(peak_near1[0]-peak_corner[0])*kk], \n",
    "#                      [peak_corner[1], peak_corner[1]+(peak_near1[1]-peak_corner[1])*kk], 'r')\n",
    "#             plt.plot([peak_corner[0], peak_corner[0]+(peak_near2[0]-peak_corner[0])*kk], \n",
    "#                      [peak_corner[1], peak_corner[1]+(peak_near2[1]-peak_corner[1])*kk], 'y')\n",
    "#     # find mode\n",
    "#     if len(peaks) == 2:\n",
    "#         mode = peaks_to_mode(peak_corner, peaks, Width, basis1, m1)\n",
    "#     else:\n",
    "#         mode = peaks_to_mode(peak_corner, peaks, Width, basis1, m1, basis2, m2)\n",
    "#     print(mode)\n",
    "#     if (mode[0]+1)*(mode[1]+1) < len(peaks):\n",
    "#         print('Warning: Something went wrong! \\nNumber of peaks ({}) \\\n",
    "#         inferred from mode does not match with actual number of peaks({})'.format((mode[0]+1)*(mode[1]+1), len(peaks)))\n",
    "#         corner += 1\n",
    "#         if corner < 4:\n",
    "#             mode = Find_mode(img_loc, separation1=separation1, Sigma1=Sigma1, Width=Width, thresh=thresh, \n",
    "#                              Show_ada_thresh=Show_ada_thresh, Show_fig=Show_fig, corner=corner, show_peaks=show_peaks)\n",
    "#             print(mode)\n",
    "#         else:\n",
    "#             pass\n",
    "#     plt.show()\n",
    "#     return mode"
   ]
  },
  {
   "cell_type": "code",
   "execution_count": 3,
   "metadata": {},
   "outputs": [],
   "source": [
    "# image dimension (n_pixl x n_pixl)\n",
    "n_pixl=128\n",
    "RepoDir = '/home/shreejit/Dropbox/Academic/WORK/Beam_auto_alignment/'\n",
    "TrainingDataFolder = RepoDir + 'Data/TrainingData/'\n",
    "SaveModelFolder = RepoDir + 'Data/TrainedModels/'"
   ]
  },
  {
   "cell_type": "code",
   "execution_count": 4,
   "metadata": {},
   "outputs": [
    {
     "ename": "NameError",
     "evalue": "name 'os' is not defined",
     "output_type": "error",
     "traceback": [
      "\u001b[0;31m---------------------------------------------------------------------------\u001b[0m",
      "\u001b[0;31mNameError\u001b[0m                                 Traceback (most recent call last)",
      "\u001b[0;32m<ipython-input-4-f8d5c7e1c252>\u001b[0m in \u001b[0;36m<module>\u001b[0;34m\u001b[0m\n\u001b[0;32m----> 1\u001b[0;31m \u001b[0mfiles\u001b[0m \u001b[0;34m=\u001b[0m \u001b[0mos\u001b[0m\u001b[0;34m.\u001b[0m\u001b[0mlistdir\u001b[0m\u001b[0;34m(\u001b[0m\u001b[0mTrainingDataFolder\u001b[0m\u001b[0;34m)\u001b[0m\u001b[0;34m\u001b[0m\u001b[0;34m\u001b[0m\u001b[0m\n\u001b[0m\u001b[1;32m      2\u001b[0m \u001b[0;32mfor\u001b[0m \u001b[0mfile\u001b[0m \u001b[0;32min\u001b[0m \u001b[0mfiles\u001b[0m\u001b[0;34m:\u001b[0m\u001b[0;34m\u001b[0m\u001b[0;34m\u001b[0m\u001b[0m\n\u001b[1;32m      3\u001b[0m     \u001b[0;32mif\u001b[0m \u001b[0mfile\u001b[0m\u001b[0;34m[\u001b[0m\u001b[0;34m-\u001b[0m\u001b[0;36m3\u001b[0m\u001b[0;34m:\u001b[0m\u001b[0;34m]\u001b[0m \u001b[0;34m!=\u001b[0m \u001b[0;34m'png'\u001b[0m\u001b[0;34m:\u001b[0m\u001b[0;34m\u001b[0m\u001b[0;34m\u001b[0m\u001b[0m\n\u001b[1;32m      4\u001b[0m         \u001b[0mfiles\u001b[0m\u001b[0;34m.\u001b[0m\u001b[0mremove\u001b[0m\u001b[0;34m(\u001b[0m\u001b[0mfile\u001b[0m\u001b[0;34m)\u001b[0m\u001b[0;34m\u001b[0m\u001b[0;34m\u001b[0m\u001b[0m\n",
      "\u001b[0;31mNameError\u001b[0m: name 'os' is not defined"
     ]
    }
   ],
   "source": [
    "files = os.listdir(TrainingDataFolder)\n",
    "for file in files:\n",
    "    if file[-3:] != 'png':\n",
    "        files.remove(file)"
   ]
  },
  {
   "cell_type": "code",
   "execution_count": 5,
   "metadata": {},
   "outputs": [
    {
     "ename": "NameError",
     "evalue": "name 'tqdm' is not defined",
     "output_type": "error",
     "traceback": [
      "\u001b[0;31m---------------------------------------------------------------------------\u001b[0m",
      "\u001b[0;31mNameError\u001b[0m                                 Traceback (most recent call last)",
      "\u001b[0;32m<ipython-input-5-29d3ad8f497d>\u001b[0m in \u001b[0;36m<module>\u001b[0;34m\u001b[0m\n\u001b[1;32m      3\u001b[0m \u001b[0;31m# if you have RGB images, you should set grayscale as False\u001b[0m\u001b[0;34m\u001b[0m\u001b[0;34m\u001b[0m\u001b[0;34m\u001b[0m\u001b[0m\n\u001b[1;32m      4\u001b[0m \u001b[0mImage_Locations\u001b[0m \u001b[0;34m=\u001b[0m \u001b[0;34m[\u001b[0m\u001b[0;34m]\u001b[0m\u001b[0;34m\u001b[0m\u001b[0;34m\u001b[0m\u001b[0m\n\u001b[0;32m----> 5\u001b[0;31m \u001b[0;32mfor\u001b[0m \u001b[0mfile\u001b[0m \u001b[0;32min\u001b[0m \u001b[0mtqdm\u001b[0m\u001b[0;34m(\u001b[0m\u001b[0mfiles\u001b[0m\u001b[0;34m)\u001b[0m\u001b[0;34m:\u001b[0m\u001b[0;34m\u001b[0m\u001b[0;34m\u001b[0m\u001b[0m\n\u001b[0m\u001b[1;32m      6\u001b[0m     \u001b[0;32mif\u001b[0m \u001b[0mfile\u001b[0m\u001b[0;34m[\u001b[0m\u001b[0;34m:\u001b[0m\u001b[0;36m2\u001b[0m\u001b[0;34m]\u001b[0m \u001b[0;34m==\u001b[0m \u001b[0;34m'LG'\u001b[0m\u001b[0;34m:\u001b[0m\u001b[0;34m\u001b[0m\u001b[0;34m\u001b[0m\u001b[0m\n\u001b[1;32m      7\u001b[0m         \u001b[0;32mcontinue\u001b[0m\u001b[0;34m\u001b[0m\u001b[0;34m\u001b[0m\u001b[0m\n",
      "\u001b[0;31mNameError\u001b[0m: name 'tqdm' is not defined"
     ]
    }
   ],
   "source": [
    "TrueLabels = []\n",
    "# We have grayscale images, so while loading the images we will keep grayscale=True, \n",
    "# if you have RGB images, you should set grayscale as False\n",
    "Image_Locations = []\n",
    "for file in tqdm(files):\n",
    "    if file[:2] == 'LG':\n",
    "        continue\n",
    "    # training images\n",
    "    Image_Locations.append(TrainingDataFolder+file)\n",
    "    # target labels\n",
    "    TrueLabels.append(tuple(map(int, file[3:6].split(\"_\"))))\n",
    "\n",
    "# Image_Locations = np.array(Image_Locations)\n",
    "# TrueLabels = np.array(TrueLabels)"
   ]
  },
  {
   "cell_type": "code",
   "execution_count": null,
   "metadata": {},
   "outputs": [],
   "source": [
    "# Y = np.array(Labels)\n",
    "# Label_enc = LabelEncoder()\n",
    "# Y = Label_enc.fit_transform(Y)\n",
    "# Y = Y.reshape(len(Y), 1)\n",
    "# # binary encode\n",
    "# onehot_encoder = OneHotEncoder(sparse=False)\n",
    "# Y = onehot_encoder.fit_transform(Y)\n",
    "# Y.shape\n",
    "# # Collect the encoders in a dict to save later\n",
    "# Encoder = {'one_hot_enc': onehot_encoder, 'label_enc': Label_enc}"
   ]
  },
  {
   "cell_type": "markdown",
   "metadata": {},
   "source": [
    "### Testing"
   ]
  },
  {
   "cell_type": "code",
   "execution_count": null,
   "metadata": {
    "scrolled": true
   },
   "outputs": [],
   "source": [
    "start = time.time()\n",
    "PredictLabels = []\n",
    "i = 0\n",
    "for loc in tqdm(Image_Locations):\n",
    "    print(i, loc[-14:-11])\n",
    "    PredictLabels.append(Find_mode2(loc, Show_fig=False))\n",
    "    i += 1\n",
    "end = time.time()\n",
    "print(end - start)"
   ]
  },
  {
   "cell_type": "code",
   "execution_count": null,
   "metadata": {},
   "outputs": [],
   "source": [
    "18.43/12216"
   ]
  },
  {
   "cell_type": "code",
   "execution_count": null,
   "metadata": {},
   "outputs": [],
   "source": [
    "aa = np.array(PredictLabels) == np.array(TrueLabels)\n",
    "ii = np.where((aa[:,0] * aa[:,1])==False)"
   ]
  },
  {
   "cell_type": "code",
   "execution_count": null,
   "metadata": {
    "scrolled": true
   },
   "outputs": [],
   "source": [
    "np.sum(aa[:,0] * aa[:,1]) / len(aa[:,1])"
   ]
  },
  {
   "cell_type": "code",
   "execution_count": null,
   "metadata": {},
   "outputs": [],
   "source": [
    "i = 0\n",
    "for loc in tqdm(np.array(Image_Locations)[ii]):\n",
    "    print(i, loc)\n",
    "    md = Find_mode(loc, separation1=10, Sigma1=1, Width=10, thresh=0.5, Show_ada_thresh=True)\n",
    "    print('mode: ', md)\n",
    "    i += 1"
   ]
  },
  {
   "cell_type": "code",
   "execution_count": null,
   "metadata": {},
   "outputs": [],
   "source": [
    "Find_mode(loc, separation=1, Sigma=0.5, Width=10, thresh=0.5, Show_ada_thresh=True, \n",
    "          Show_fig=True, corner=0, show_peaks=False)"
   ]
  },
  {
   "cell_type": "markdown",
   "metadata": {},
   "source": [
    "## Confusion Matrix"
   ]
  },
  {
   "cell_type": "code",
   "execution_count": null,
   "metadata": {},
   "outputs": [],
   "source": [
    "# Since our data is in dummy format we put the numpy array into a dataframe and call idxmax axis=1 to \n",
    "# return the column\n",
    "# label of the maximum value thus creating a categorical variable\n",
    "# Basically, flipping a dummy variable back to it's categorical variable\n",
    "\n",
    "categorical_test_labels = pd.DataFrame(y_test).idxmax(axis=1)\n",
    "categorical_preds = pd.DataFrame(test_predict).idxmax(axis=1)\n",
    "\n",
    "cm = confusion_matrix(categorical_test_labels, categorical_preds)"
   ]
  },
  {
   "cell_type": "code",
   "execution_count": null,
   "metadata": {},
   "outputs": [],
   "source": [
    "def plot_confusion_matrix(cm, classes,\n",
    "    normalize=True,\n",
    "    title='Confusion matrix',\n",
    "    cmap=plt.cm.Blues, colrbar=False, savefig=True):\n",
    "    \n",
    "    #Add Normalization Option\n",
    "    '''prints pretty confusion metric with normalization option '''\n",
    "    if normalize:\n",
    "     cm = cm.astype('float') / cm.sum(axis=1)[:, np.newaxis]\n",
    "     print(\"Normalized confusion matrix\")\n",
    "    else:\n",
    "     print('Confusion matrix, without normalization')\n",
    "    # Plotting\n",
    "    plt.figure(figsize=(15,15))\n",
    "    plt.imshow(cm, interpolation='nearest', cmap=cmap)\n",
    "    plt.title(title)\n",
    "    if colrbar: plt.colorbar()\n",
    "    tick_marks = np.arange(len(classes))\n",
    "    plt.xticks(tick_marks, classes, rotation=45)\n",
    "    plt.yticks(tick_marks, classes)\n",
    "\n",
    "    fmt = '.2f' if normalize else 'd'\n",
    "    thresh = cm.max() / 2.\n",
    "    for i, j in itertools.product(range(cm.shape[0]), range(cm.shape[1])):\n",
    "        plt.text(j, i, format(cm[i, j], fmt), horizontalalignment=\"center\", \\\n",
    "               color=\"white\" if cm[i, j] > thresh else \"black\")\n",
    "\n",
    "    plt.tight_layout()\n",
    "    plt.ylabel('True label')\n",
    "    plt.xlabel('Predicted label')\n",
    "    plt.savefig(SaveModelFolder + 'Conf_Mat_of_' + Model_Name + '.png')\n",
    "\n",
    "# Plot Confusion Mat\n",
    "plot_confusion_matrix(cm, \\\n",
    "                        np.char.replace(Encoder['label_enc'].\\\n",
    "                        inverse_transform((np.arange(len(np.unique(np.array(Labels)))))), '_', ''))"
   ]
  }
 ],
 "metadata": {
  "kernelspec": {
   "display_name": "Python 3",
   "language": "python",
   "name": "python3"
  },
  "language_info": {
   "codemirror_mode": {
    "name": "ipython",
    "version": 3
   },
   "file_extension": ".py",
   "mimetype": "text/x-python",
   "name": "python",
   "nbconvert_exporter": "python",
   "pygments_lexer": "ipython3",
   "version": "3.6.8"
  }
 },
 "nbformat": 4,
 "nbformat_minor": 2
}
