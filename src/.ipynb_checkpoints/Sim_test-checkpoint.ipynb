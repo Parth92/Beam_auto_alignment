{
 "cells": [
  {
   "cell_type": "markdown",
   "metadata": {},
   "source": [
    "# Simulation Test Notebook"
   ]
  },
  {
   "cell_type": "markdown",
   "metadata": {},
   "source": [
    "If you can read this you have succesfully installed and run ipython. Congratulations. With the code below we can test whether also Pykat and Finesse have been succesfully installed. And we print a few system settings for diagnostics.\n",
    "\n",
    "To run the code below you should go to the 'Cell' menue above and select 'Run All'. The output of at the bottom of the file provides a summary of the test result."
   ]
  },
  {
   "cell_type": "code",
   "execution_count": 11,
   "metadata": {},
   "outputs": [
    {
     "name": "stdout",
     "output_type": "stream",
     "text": [
      "Pykat found\n"
     ]
    }
   ],
   "source": [
    "found = 0\n",
    "try: \n",
    "    import pykat\n",
    "    print (\"Pykat found\")\n",
    "    found = 1\n",
    "except:\n",
    "    print (\"Did not find Pykat\")"
   ]
  },
  {
   "cell_type": "code",
   "execution_count": 12,
   "metadata": {},
   "outputs": [
    {
     "name": "stdout",
     "output_type": "stream",
     "text": [
      "--------------------------------------------------------------\n",
      "Running kat - Started at 2019-06-21 11:34:01.158135\n",
      "\n",
      "Finished in 0.0158646 seconds\n"
     ]
    },
    {
     "name": "stderr",
     "output_type": "stream",
     "text": [
      "/home/user1/Shreejit/mlVenv/lib/python3.6/site-packages/ipykernel_launcher.py:4: UserWarning: parseKatCode depreciated, use parse.\n",
      "  after removing the cwd from sys.path.\n",
      "\r",
      "  0% | ETA:  --:--:-- | Calculating                                            \r",
      "100% | ETA:  0:00:00 | Calculating                                             "
     ]
    }
   ],
   "source": [
    "out = None\n",
    "if (found):\n",
    "    kat = pykat.finesse.kat()\n",
    "    kat.parseKatCode(\"l l1 1 0 n1 \\n s s1 1 n1 n2 \\n pd pd1 n2 \\n noxaxis\")\n",
    "    out=kat.run()\n",
    "    found = 2"
   ]
  },
  {
   "cell_type": "code",
   "execution_count": 13,
   "metadata": {},
   "outputs": [
    {
     "name": "stdout",
     "output_type": "stream",
     "text": [
      "Finesse run succesully\n"
     ]
    }
   ],
   "source": [
    "import os\n",
    "def print_key(key):\n",
    "    value = os.environ.get(key)\n",
    "    if value != None:\n",
    "        print (\"{0} = {1}\".format(key,os.environ.get(key)))\n",
    "    else:\n",
    "        print(\"Variable {0} has not been set\".format(key))\n",
    "\n",
    "\n",
    "if out == None:\n",
    "    print (\"Error running Finesse\")\n",
    "    print (\"Required system variables are:\")\n",
    "    vars = ['FINESSE_DIR','KAT_INI']\n",
    "    for v in vars:\n",
    "        print_key(v)\n",
    "    print(\"Path = {0}\".format(os.environ.get(\"PATH\")))\n",
    "else:\n",
    "    if out['pd1'] == 1.0:\n",
    "        print (\"Finesse run succesully\")\n",
    "        found = 3\n",
    "    else:\n",
    "        print (\"Finesse run but something went wrong\")"
   ]
  },
  {
   "cell_type": "code",
   "execution_count": 14,
   "metadata": {},
   "outputs": [
    {
     "name": "stdout",
     "output_type": "stream",
     "text": [
      "Congratulations, Pykat and Finesse work!\n"
     ]
    }
   ],
   "source": [
    "if (found ==0): \n",
    "    print(\"Pykat could not be found\")\n",
    "elif (found ==1):\n",
    "    print(\"Pykat was found but Finesse was not found\")\n",
    "elif (found ==2):\n",
    "    print(\"Pykat and Finesse were found, but Finesse returned a wrong result\")\n",
    "elif (found ==3):\n",
    "    print(\"Congratulations, Pykat and Finesse work!\")\n",
    "        "
   ]
  },
  {
   "cell_type": "code",
   "execution_count": 15,
   "metadata": {},
   "outputs": [
    {
     "data": {
      "text/plain": [
       "array([[1.]])"
      ]
     },
     "execution_count": 15,
     "metadata": {},
     "output_type": "execute_result"
    }
   ],
   "source": [
    "out.y"
   ]
  }
 ],
 "metadata": {
  "kernelspec": {
   "display_name": "Python 3",
   "language": "python",
   "name": "python3"
  },
  "language_info": {
   "codemirror_mode": {
    "name": "ipython",
    "version": 3
   },
   "file_extension": ".py",
   "mimetype": "text/x-python",
   "name": "python",
   "nbconvert_exporter": "python",
   "pygments_lexer": "ipython3",
   "version": "3.6.8"
  }
 },
 "nbformat": 4,
 "nbformat_minor": 1
}
