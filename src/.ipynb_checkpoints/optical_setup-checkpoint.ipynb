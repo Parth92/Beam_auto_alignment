{
 "cells": [
  {
   "cell_type": "markdown",
   "metadata": {},
   "source": [
    "# Importing packages"
   ]
  },
  {
   "cell_type": "code",
   "execution_count": 32,
   "metadata": {},
   "outputs": [],
   "source": [
    "import pykat\n",
    "import numpy as np\n",
    "import matplotlib.pyplot as plt\n",
    "from matplotlib import cm\n",
    "\n",
    "plt.rc('text', usetex=True)\n",
    "plt.rc('font', family='serif', size=12)"
   ]
  },
  {
   "cell_type": "markdown",
   "metadata": {},
   "source": [
    "# Base Model"
   ]
  },
  {
   "cell_type": "code",
   "execution_count": 38,
   "metadata": {},
   "outputs": [],
   "source": [
    "base = pykat.finesse.kat()\n",
    "base.verbose = False\n",
    "base.parse(\"\"\"\n",
    "\n",
    "# Input laser\n",
    "# -----------------------------\n",
    "l laser 1 0 n0   # Laser (Power = 1 W, wavelength offset = 0)\n",
    "s s0 1 n0 nSM1a    # Space (Length = 1 m)\n",
    "\n",
    "# Steering mirrors\n",
    "# -----------------------------\n",
    "bs SM1 1 0 0 45 nSM1a nSM1b nSM1c nSM1d  # Beam splitter (R=1, T=0, phi(tuning)=0, alpha=45)\n",
    "s s1 1 nSM1b nSM2a\n",
    "bs SM2 1 0 0 45 nSM2a nSM2b nSM2c nSM2d\n",
    "s s2 1 nSM2b nM1a\n",
    "\n",
    "# Cavity\n",
    "# -----------------------------\n",
    "m M1 0.99 0.01 0 nM1a nM1b  # cavity mirror1 (R=0.99, T=0.01, phi=0)\n",
    "s lCav 1 nM1b nM2a\n",
    "m M2 0.99 0.01 0 nM2a nM2b\n",
    "\n",
    "# Setting RoCs\n",
    "attr M1 Rc -0.6\n",
    "attr M2 Rc 0.6\n",
    "\n",
    "# Defning the cavity for spatial mode basis computation\n",
    "cav cav1 M1 nM1b M2 nM2a\n",
    "\n",
    "# Output\n",
    "# -----------------------------\n",
    "s sOut 0.1 nM2b nOut\n",
    "\n",
    "# Photo diode\n",
    "pd P nOut\n",
    "\n",
    "# Beam camera\n",
    "beam CCD nOut\n",
    "\n",
    "# trace 2\n",
    "\"\"\")"
   ]
  },
  {
   "cell_type": "code",
   "execution_count": 39,
   "metadata": {},
   "outputs": [],
   "source": [
    "# Adding simulation instructions\n",
    "base.parse(\"\"\"\n",
    "maxtem 7\n",
    "xaxis CCD x lin -5 5 100\n",
    "x2axis CCD y lin -5 5 100\n",
    "yaxis abs\n",
    "x3axis M2 phi lin -90 90 20\n",
    "video\n",
    "gnuterm png\n",
    "GNUPLOT\n",
    "set cbrange[0:2e-3]\n",
    "set nosurface\n",
    "set pm3d\n",
    "set view map\n",
    "set palette gray\n",
    "set format z '%.1g'\n",
    "set format cb '%.1g'\n",
    "set size ratio 1\n",
    "unset grid\n",
    "set format \"\"\n",
    "unset colorbox\n",
    "unset label\n",
    "unset title\n",
    "unset xlabel\n",
    "unset ylabel\n",
    "unset key\n",
    "unset tics\n",
    "unset border\n",
    "set term pngcairo size 100,100 monochrome enhanced\n",
    "set lmargin 0\n",
    "set bmargin 0\n",
    "set rmargin at screen 0.99999\n",
    "set tmargin at screen 0.99999\n",
    "END\n",
    "\"\"\")\n",
    "\n",
    "# # Steering mirror misalignments [rad]\n",
    "# # ------------------------------------\n",
    "# b1x = 10e-5\n",
    "# b2x = 0\n",
    "# b1y = 0\n",
    "# b2y = 30e-5\n",
    "\n",
    "# base.SM1.xbeta = b1x\n",
    "# base.SM1.ybeta = b1y\n",
    "# base.SM2.xbeta = b2x\n",
    "# base.SM2.ybeta = b2y\n",
    "# # ------------------------------------\n",
    "\n",
    "# # Cavity tuning [deg]\n",
    "# base.M2.phi = 45\n",
    "\n",
    "# Running simulation\n",
    "out = base.run()"
   ]
  },
  {
   "cell_type": "code",
   "execution_count": 36,
   "metadata": {
    "scrolled": true
   },
   "outputs": [
    {
     "name": "stdout",
     "output_type": "stream",
     "text": [
      "<pykat.finesse.KatRun2D object at 0x7f185f0dacc0>\n"
     ]
    }
   ],
   "source": [
    "print(out)\n",
    "\n",
    "# # Plotting\n",
    "# FS = 15\n",
    "# fig = plt.figure(figsize = (7,5), dpi=100)\n",
    "# ax = fig.add_subplot(111)\n",
    "# x,y = np.meshgrid(out.x, out.y)\n",
    "# hej = ax.pcolormesh(x, y, out['CCD'], cmap=cm.binary_r)\n",
    "# ax.grid()\n",
    "# ax.set_title(('$\\\\beta_{{1x}}$ = {} $\\mu$rad,  $\\\\beta_{{2x}}$ = {} $\\mu$rad, '+\n",
    "#               '$\\\\beta_{{1y}}$ = {} $\\mu$rad,  $\\\\beta_{{2y}}$ = {} $\\mu$rad').format(b1x*1e6, b2x*1e6, \n",
    "#                                                                                       b1y*1e6, b2y*1e6))\n",
    "# ax.set_ylabel('y [w$_0$]', size=FS)\n",
    "# ax.set_xlabel('x [w$_0$]', size=FS)\n",
    "# cbar = fig.colorbar(hej)\n",
    "# cbar.set_label(label='Intensity [W/m$^2$]', size=FS)\n",
    "# plt.show(fig)"
   ]
  },
  {
   "cell_type": "code",
   "execution_count": null,
   "metadata": {},
   "outputs": [],
   "source": []
  }
 ],
 "metadata": {
  "kernelspec": {
   "display_name": "Python 3",
   "language": "python",
   "name": "python3"
  },
  "language_info": {
   "codemirror_mode": {
    "name": "ipython",
    "version": 3
   },
   "file_extension": ".py",
   "mimetype": "text/x-python",
   "name": "python",
   "nbconvert_exporter": "python",
   "pygments_lexer": "ipython3",
   "version": "3.6.8"
  }
 },
 "nbformat": 4,
 "nbformat_minor": 2
}
